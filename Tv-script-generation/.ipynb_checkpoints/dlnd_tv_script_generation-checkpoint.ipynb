{
 "cells": [
  {
   "cell_type": "markdown",
   "metadata": {},
   "source": [
    "# TV Script Generation\n",
    "In this project, you'll generate your own [Simpsons](https://en.wikipedia.org/wiki/The_Simpsons) TV scripts using RNNs.  You'll be using part of the [Simpsons dataset](https://www.kaggle.com/wcukierski/the-simpsons-by-the-data) of scripts from 27 seasons.  The Neural Network you'll build will generate a new TV script for a scene at [Moe's Tavern](https://simpsonswiki.com/wiki/Moe's_Tavern).\n",
    "## Get the Data\n",
    "The data is already provided for you.  You'll be using a subset of the original dataset.  It consists of only the scenes in Moe's Tavern.  This doesn't include other versions of the tavern, like \"Moe's Cavern\", \"Flaming Moe's\", \"Uncle Moe's Family Feed-Bag\", etc.."
   ]
  },
  {
   "cell_type": "code",
   "execution_count": 9,
   "metadata": {
    "scrolled": true
   },
   "outputs": [
    {
     "name": "stdout",
     "output_type": "stream",
     "text": [
      "The data is already downloaded. Now loading it \n",
      "Load kaggle dataset\n",
      "Data loaded\n"
     ]
    }
   ],
   "source": [
    "#download data from kaggle\n",
    "import helper\n",
    "import csv\n",
    "import urllib.request\n",
    "import zipfile  \n",
    "import os\n",
    "\n",
    "url = 'https://storage.googleapis.com/kaggle-datasets/203/430/the-simpsons-by-the-data.zip?GoogleAccessId=datasets@kaggle-161607.iam.gserviceaccount.com&Expires=1498385518&Signature=ctO9lXGSDIeJu%2FwA6%2BZiE9GVQAzdDzY3YnOQDLbAExM6HxA8SaythsHXgt87nbJuK6lGXQhLEhR1M%2BZEC2kMKTxH4KangihiN0LRo57E%2F7V6zAmX4F6KcfwCEA82aXBPDalGFCCOuOeyE%2BmL3ePJYBI3ViCAB2u0Zap7O8w%2FF16g3TcSu79%2B182p8ET4kGSztixkYoeL4MDsDcWSP65IQW3ZhNlzQgtVVu6Yp9MtsB0dpvSUY74j8C4kJktZPzm%2BJ243lYPPcI%2FFDo7cPZl%2FzxomqM5xsJICkC1gQhafUXHqvziawCHbnA%2B%2BLy4u9%2FNnoEggfgTRQfupIkMnNnT3lQ%3D%3D'\n",
    "download_dir = './data/simpsons/data.zip'\n",
    "\n",
    "if not os.path.isfile(download_dir):\n",
    "    print('Start downloading, please wait a moment.\\n')\n",
    "    urllib.request.urlretrieve(url,download_dir)\n",
    "    print('Successfully downloaded!\\n')\n",
    "    \n",
    "# unzip file\n",
    "    print('unzip data now\\n')\n",
    "    helper.un_zip('./data/simpsons/data.zip')\n",
    "    print('Successfully unzipped!')\n",
    "else:\n",
    "    print('The data is already downloaded. Now loading it ')\n",
    "    \n",
    "# Load the full training data\n",
    "\n",
    "data_dir = './data/simpsons/data.zip_files/simpsons_script_lines.csv'\n",
    "text = helper.load_csv_data(data_dir)\n",
    "print('Data loaded')"
   ]
  },
  {
   "cell_type": "markdown",
   "metadata": {},
   "source": [
    "## Attention: If you want to use kaggle dataset, not to run the following 1 cell."
   ]
  },
  {
   "cell_type": "code",
   "execution_count": 1,
   "metadata": {},
   "outputs": [
    {
     "name": "stdout",
     "output_type": "stream",
     "text": [
      "Load Udacity dataset\n"
     ]
    }
   ],
   "source": [
    "# \"\"\"\n",
    "# DON'T MODIFY ANYTHING IN THIS CELL\n",
    "# \"\"\"\n",
    "\n",
    "# Load the udacity data\n",
    "import helper\n",
    "\n",
    "data_dir = './data/simpsons/moes_tavern_lines.txt'\n",
    "text = helper.load_data(data_dir)\n",
    "# Ignore notice, since we don't use it for analysing the data"
   ]
  },
  {
   "cell_type": "code",
   "execution_count": 2,
   "metadata": {},
   "outputs": [
    {
     "data": {
      "text/plain": [
       "\"Moe_Szyslak: (INTO PHONE) Moe's Tavern. Where the elite meet to drink.\\nBart_Simpson: Eh, yeah, hello, is Mike there? Last name, Rotch.\\nMoe_Szyslak: (INTO PHONE) Hold on, I'll check. (TO BARFLIES) Mike Rotch. Mike Rotch. Hey, has anybody seen Mike Rotch, lately?\\nMoe_Szyslak: (INTO PHONE) Listen you little puke. One of these days I'm gonna catch you, and I'm gonna carve my name on your back with an ice pick.\\nMoe_Szyslak: What's the matter Homer? You're not your normal effervescent self.\\nHomer_Simp\""
      ]
     },
     "execution_count": 2,
     "metadata": {},
     "output_type": "execute_result"
    }
   ],
   "source": [
    "text[:500]"
   ]
  },
  {
   "cell_type": "markdown",
   "metadata": {},
   "source": [
    "## Explore the Data\n",
    "Play around with `view_sentence_range` to view different parts of the data."
   ]
  },
  {
   "cell_type": "code",
   "execution_count": 3,
   "metadata": {},
   "outputs": [
    {
     "name": "stdout",
     "output_type": "stream",
     "text": [
      "Dataset Stats\n",
      "Roughly the number of unique words: 11492\n",
      "Number of scenes: 262\n",
      "Average number of sentences in each scene: 15.248091603053435\n",
      "Number of lines: 4257\n",
      "Average number of words in each line: 11.50434578341555\n",
      "\n",
      "The sentences 0 to 10:\n",
      "Moe_Szyslak: (INTO PHONE) Moe's Tavern. Where the elite meet to drink.\n",
      "Bart_Simpson: Eh, yeah, hello, is Mike there? Last name, Rotch.\n",
      "Moe_Szyslak: (INTO PHONE) Hold on, I'll check. (TO BARFLIES) Mike Rotch. Mike Rotch. Hey, has anybody seen Mike Rotch, lately?\n",
      "Moe_Szyslak: (INTO PHONE) Listen you little puke. One of these days I'm gonna catch you, and I'm gonna carve my name on your back with an ice pick.\n",
      "Moe_Szyslak: What's the matter Homer? You're not your normal effervescent self.\n",
      "Homer_Simpson: I got my problems, Moe. Give me another one.\n",
      "Moe_Szyslak: Homer, hey, you should not drink to forget your problems.\n",
      "Barney_Gumble: Yeah, you should only drink to enhance your social skills.\n",
      "\n",
      "\n"
     ]
    }
   ],
   "source": [
    "view_sentence_range = (0, 10)\n",
    "\n",
    "\"\"\"\n",
    "DON'T MODIFY ANYTHING IN THIS CELL\n",
    "\"\"\"\n",
    "import numpy as np\n",
    "\n",
    "print('Dataset Stats')\n",
    "print('Roughly the number of unique words: {}'.format(len({word: None for word in text.split()})))\n",
    "scenes = text.split('\\n\\n')\n",
    "print('Number of scenes: {}'.format(len(scenes)))\n",
    "sentence_count_scene = [scene.count('\\n') for scene in scenes]\n",
    "print('Average number of sentences in each scene: {}'.format(np.average(sentence_count_scene)))\n",
    "\n",
    "sentences = [sentence for scene in scenes for sentence in scene.split('\\n')]\n",
    "print('Number of lines: {}'.format(len(sentences)))\n",
    "word_count_sentence = [len(sentence.split()) for sentence in sentences]\n",
    "print('Average number of words in each line: {}'.format(np.average(word_count_sentence)))\n",
    "\n",
    "print()\n",
    "print('The sentences {} to {}:'.format(*view_sentence_range))\n",
    "print('\\n'.join(text.split('\\n')[view_sentence_range[0]:view_sentence_range[1]]))"
   ]
  },
  {
   "cell_type": "markdown",
   "metadata": {},
   "source": [
    "## Implement Preprocessing Functions\n",
    "The first thing to do to any dataset is preprocessing.  Implement the following preprocessing functions below:\n",
    "- Lookup Table\n",
    "- Tokenize Punctuation\n",
    "\n",
    "### Lookup Table\n",
    "To create a word embedding, you first need to transform the words to ids.  In this function, create two dictionaries:\n",
    "- Dictionary to go from the words to an id, we'll call `vocab_to_int`\n",
    "- Dictionary to go from the id to word, we'll call `int_to_vocab`\n",
    "\n",
    "Return these dictionaries in the following tuple `(vocab_to_int, int_to_vocab)`"
   ]
  },
  {
   "cell_type": "code",
   "execution_count": 4,
   "metadata": {},
   "outputs": [
    {
     "name": "stdout",
     "output_type": "stream",
     "text": [
      "Tests Passed\n"
     ]
    }
   ],
   "source": [
    "import numpy as np\n",
    "import problem_unittests as tests\n",
    "\n",
    "def create_lookup_tables(text):\n",
    "    \"\"\"\n",
    "    Create lookup tables for vocabulary\n",
    "    :param text: The text of tv scripts split into words\n",
    "    :return: A tuple of dicts (vocab_to_int, int_to_vocab)\n",
    "    \"\"\"\n",
    "    # TODO: Implement Function\n",
    "    vocab = set(text)\n",
    "    vocab_to_int = {word:ii for ii,word in enumerate(vocab)}\n",
    "    int_to_vocab = dict(enumerate(vocab))\n",
    "    return vocab_to_int, int_to_vocab\n",
    "\n",
    "\n",
    "\"\"\"\n",
    "DON'T MODIFY ANYTHING IN THIS CELL THAT IS BELOW THIS LINE\n",
    "\"\"\"\n",
    "tests.test_create_lookup_tables(create_lookup_tables)"
   ]
  },
  {
   "cell_type": "markdown",
   "metadata": {},
   "source": [
    "### Tokenize Punctuation\n",
    "We'll be splitting the script into a word array using spaces as delimiters.  However, punctuations like periods and exclamation marks make it hard for the neural network to distinguish between the word \"bye\" and \"bye!\".\n",
    "\n",
    "Implement the function `token_lookup` to return a dict that will be used to tokenize symbols like \"!\" into \"||Exclamation_Mark||\".  Create a dictionary for the following symbols where the symbol is the key and value is the token:\n",
    "- Period ( . )\n",
    "- Comma ( , )\n",
    "- Quotation Mark ( \" )\n",
    "- Semicolon ( ; )\n",
    "- Exclamation mark ( ! )\n",
    "- Question mark ( ? )\n",
    "- Left Parentheses ( ( )\n",
    "- Right Parentheses ( ) )\n",
    "- Dash ( -- )\n",
    "- Return ( \\n )\n",
    "\n",
    "This dictionary will be used to token the symbols and add the delimiter (space) around it.  This separates the symbols as it's own word, making it easier for the neural network to predict on the next word. Make sure you don't use a token that could be confused as a word. Instead of using the token \"dash\", try using something like \"||dash||\"."
   ]
  },
  {
   "cell_type": "code",
   "execution_count": 5,
   "metadata": {},
   "outputs": [
    {
     "name": "stdout",
     "output_type": "stream",
     "text": [
      "Tests Passed\n"
     ]
    }
   ],
   "source": [
    "def token_lookup():\n",
    "    \"\"\"\n",
    "    Generate a dict to turn punctuation into a token.\n",
    "    :return: Tokenize dictionary where the key is the punctuation and the value is the token\n",
    "    \"\"\"\n",
    "    # TODO: Implement Function\n",
    "    punc_to_token = {'.':'||Period||',\n",
    "                    ',':'||Comma||',\n",
    "                    '\"':'||Quotation_Mark||',\n",
    "                    ';':'||Semicolon||',\n",
    "                    '!':'||Exclamation_mark||',\n",
    "                    '?':'||Question_mark||',\n",
    "                    '(':'||Left_Parentheses||',\n",
    "                    ')':'||Right_Parentheses||',\n",
    "                    '--':'||Dash||',\n",
    "                    '\\n':'||Return||'}\n",
    "    return punc_to_token\n",
    "\n",
    "\"\"\"\n",
    "DON'T MODIFY ANYTHING IN THIS CELL THAT IS BELOW THIS LINE\n",
    "\"\"\"\n",
    "tests.test_tokenize(token_lookup)"
   ]
  },
  {
   "cell_type": "markdown",
   "metadata": {},
   "source": [
    "## Preprocess all the data and save it\n",
    "Running the code cell below will preprocess all the data and save it to file."
   ]
  },
  {
   "cell_type": "code",
   "execution_count": 6,
   "metadata": {},
   "outputs": [
    {
     "name": "stdout",
     "output_type": "stream",
     "text": [
      "Load Udacity dataset\n"
     ]
    }
   ],
   "source": [
    "\"\"\"\n",
    "DON'T MODIFY ANYTHING IN THIS CELL\n",
    "\"\"\"\n",
    "# Preprocess Training, Validation, and Testing Data\n",
    "helper.preprocess_and_save_data(data_dir, token_lookup, create_lookup_tables)"
   ]
  },
  {
   "cell_type": "markdown",
   "metadata": {},
   "source": [
    "# Check Point\n",
    "This is your first checkpoint. If you ever decide to come back to this notebook or have to restart the notebook, you can start from here. The preprocessed data has been saved to disk."
   ]
  },
  {
   "cell_type": "code",
   "execution_count": 7,
   "metadata": {},
   "outputs": [
    {
     "name": "stdout",
     "output_type": "stream",
     "text": [
      "There are   6780 unique words remain\n"
     ]
    }
   ],
   "source": [
    "\"\"\"\n",
    "DON'T MODIFY ANYTHING IN THIS CELL\n",
    "\"\"\"\n",
    "import helper\n",
    "import numpy as np\n",
    "import problem_unittests as tests\n",
    "\n",
    "int_text, vocab_to_int, int_to_vocab, token_dict = helper.load_preprocess()\n",
    "\n",
    "print('There are {:>6} unique words remain'.format(len(vocab_to_int)))"
   ]
  },
  {
   "cell_type": "markdown",
   "metadata": {},
   "source": [
    "## Build the Neural Network\n",
    "You'll build the components necessary to build a RNN by implementing the following functions below:\n",
    "- get_inputs\n",
    "- get_init_cell\n",
    "- get_embed\n",
    "- build_rnn\n",
    "- build_nn\n",
    "- get_batches\n",
    "\n",
    "### Check the Version of TensorFlow and Access to GPU"
   ]
  },
  {
   "cell_type": "code",
   "execution_count": 8,
   "metadata": {},
   "outputs": [
    {
     "name": "stdout",
     "output_type": "stream",
     "text": [
      "TensorFlow Version: 1.0.1\n",
      "Default GPU Device: /gpu:0\n"
     ]
    }
   ],
   "source": [
    "\"\"\"\n",
    "DON'T MODIFY ANYTHING IN THIS CELL\n",
    "\"\"\"\n",
    "from distutils.version import LooseVersion\n",
    "import warnings\n",
    "import tensorflow as tf\n",
    "\n",
    "# Check TensorFlow Version\n",
    "assert LooseVersion(tf.__version__) >= LooseVersion('1.0'), 'Please use TensorFlow version 1.0 or newer'\n",
    "print('TensorFlow Version: {}'.format(tf.__version__))\n",
    "\n",
    "# Check for a GPU\n",
    "if not tf.test.gpu_device_name():\n",
    "    warnings.warn('No GPU found. Please use a GPU to train your neural network.')\n",
    "else:\n",
    "    print('Default GPU Device: {}'.format(tf.test.gpu_device_name()))"
   ]
  },
  {
   "cell_type": "markdown",
   "metadata": {},
   "source": [
    "### Input\n",
    "Implement the `get_inputs()` function to create TF Placeholders for the Neural Network.  It should create the following placeholders:\n",
    "- Input text placeholder named \"input\" using the [TF Placeholder](https://www.tensorflow.org/api_docs/python/tf/placeholder) `name` parameter.\n",
    "- Targets placeholder\n",
    "- Learning Rate placeholder\n",
    "\n",
    "Return the placeholders in the following tuple `(Input, Targets, LearningRate)`"
   ]
  },
  {
   "cell_type": "code",
   "execution_count": 9,
   "metadata": {},
   "outputs": [
    {
     "name": "stdout",
     "output_type": "stream",
     "text": [
      "Tests Passed\n"
     ]
    }
   ],
   "source": [
    "def get_inputs():\n",
    "    \"\"\"\n",
    "    Create TF Placeholders for input, targets, and learning rate.\n",
    "    :return: Tuple (input, targets, learning rate)\n",
    "    \"\"\"\n",
    "    # TODO: Implement Function\n",
    "    input_ = tf.placeholder(tf.int32,[None,None],name='input')\n",
    "    target_ = tf.placeholder(tf.int32,[None,None],name='target')\n",
    "    learning_rate = tf.placeholder(tf.float32,name='learning_rate')\n",
    "    return input_,target_,learning_rate\n",
    "\n",
    "\n",
    "\"\"\"\n",
    "DON'T MODIFY ANYTHING IN THIS CELL THAT IS BELOW THIS LINE\n",
    "\"\"\"\n",
    "tests.test_get_inputs(get_inputs)"
   ]
  },
  {
   "cell_type": "markdown",
   "metadata": {},
   "source": [
    "### Build RNN Cell and Initialize\n",
    "Stack one or more [`BasicLSTMCells`](https://www.tensorflow.org/api_docs/python/tf/contrib/rnn/BasicLSTMCell) in a [`MultiRNNCell`](https://www.tensorflow.org/api_docs/python/tf/contrib/rnn/MultiRNNCell).\n",
    "- The Rnn size should be set using `rnn_size`\n",
    "- Initalize Cell State using the MultiRNNCell's [`zero_state()`](https://www.tensorflow.org/api_docs/python/tf/contrib/rnn/MultiRNNCell#zero_state) function\n",
    "    - Apply the name \"initial_state\" to the initial state using [`tf.identity()`](https://www.tensorflow.org/api_docs/python/tf/identity)\n",
    "\n",
    "Return the cell and initial state in the following tuple `(Cell, InitialState)`"
   ]
  },
  {
   "cell_type": "code",
   "execution_count": 10,
   "metadata": {},
   "outputs": [
    {
     "name": "stdout",
     "output_type": "stream",
     "text": [
      "Tests Passed\n"
     ]
    }
   ],
   "source": [
    "def get_init_cell(batch_size, rnn_size,num_layers):\n",
    "    \"\"\"\n",
    "    Create an RNN Cell and initialize it.\n",
    "    :param batch_size: Size of batches\n",
    "    :param rnn_size: Size of RNNs\n",
    "    :return: Tuple (cell, initialize state)\n",
    "    \"\"\"\n",
    "    # TODO: Implement Function\n",
    "    lstm = tf.contrib.rnn.BasicLSTMCell(rnn_size)\n",
    "#     drop = tf.contrib.rnn.DropoutWrapper(lstm,output_keep_prob=0.5)\n",
    "    cell = tf.contrib.rnn.MultiRNNCell([lstm for _ in range(num_layers)])\n",
    "    initial_state = cell.zero_state(batch_size, tf.float32)\n",
    "    initial_state = tf.identity(initial_state,name='initial_state')\n",
    "    return (cell, initial_state)\n",
    "\n",
    "\n",
    "\"\"\"\n",
    "DON'T MODIFY ANYTHING IN THIS CELL THAT IS BELOW THIS LINE\n",
    "\"\"\"\n",
    "tests.test_get_init_cell(get_init_cell)"
   ]
  },
  {
   "cell_type": "markdown",
   "metadata": {},
   "source": [
    "### Word Embedding\n",
    "Apply embedding to `input_data` using TensorFlow.  Return the embedded sequence."
   ]
  },
  {
   "cell_type": "code",
   "execution_count": 11,
   "metadata": {},
   "outputs": [
    {
     "name": "stdout",
     "output_type": "stream",
     "text": [
      "Tests Passed\n"
     ]
    }
   ],
   "source": [
    "def get_embed(input_data, vocab_size, embed_dim):\n",
    "    \"\"\"\n",
    "    Create embedding for <input_data>.\n",
    "    :param input_data: TF placeholder for text input.\n",
    "    :param vocab_size: Number of words in vocabulary.\n",
    "    :param embed_dim: Number of embedding dimensions\n",
    "    :return: Embedded input.\n",
    "    \"\"\"\n",
    "    # TODO: Implement Function\n",
    "    embedding = tf.Variable(tf.random_uniform((vocab_size,embed_dim),-1,1))\n",
    "    embed = tf.nn.embedding_lookup(embedding,input_data)\n",
    "                        \n",
    "    return embed\n",
    "\n",
    "\n",
    "\"\"\"\n",
    "DON'T MODIFY ANYTHING IN THIS CELL THAT IS BELOW THIS LINE\n",
    "\"\"\"\n",
    "tests.test_get_embed(get_embed)"
   ]
  },
  {
   "cell_type": "markdown",
   "metadata": {},
   "source": [
    "### Build RNN\n",
    "You created a RNN Cell in the `get_init_cell()` function.  Time to use the cell to create a RNN.\n",
    "- Build the RNN using the [`tf.nn.dynamic_rnn()`](https://www.tensorflow.org/api_docs/python/tf/nn/dynamic_rnn)\n",
    " - Apply the name \"final_state\" to the final state using [`tf.identity()`](https://www.tensorflow.org/api_docs/python/tf/identity)\n",
    "\n",
    "Return the outputs and final_state state in the following tuple `(Outputs, FinalState)` "
   ]
  },
  {
   "cell_type": "code",
   "execution_count": 12,
   "metadata": {
    "scrolled": true
   },
   "outputs": [
    {
     "name": "stdout",
     "output_type": "stream",
     "text": [
      "Tests Passed\n"
     ]
    }
   ],
   "source": [
    "def build_rnn(cell, inputs):\n",
    "    \"\"\"\n",
    "    Create a RNN using a RNN Cell\n",
    "    :param cell: RNN Cell\n",
    "    :param inputs: Input text data\n",
    "    :return: Tuple (Outputs, Final State)\n",
    "    \"\"\"\n",
    "    # TODO: Implement Function\n",
    "#     outputs,final_state = tf.nn.dynamic_rnn(cell,inputs,initial_state=cell.zero_state(tf.placeholder(tf.int32,[],name='initial_state'), tf.float32))\n",
    "    outputs,final_state = tf.nn.dynamic_rnn(cell,inputs,dtype=tf.float32)\n",
    "    final_state = tf.identity(final_state,name='final_state')\n",
    "    return (outputs,final_state)\n",
    "\n",
    "\n",
    "\"\"\"\n",
    "DON'T MODIFY ANYTHING IN THIS CELL THAT IS BELOW THIS LINE\n",
    "\"\"\"\n",
    "tests.test_build_rnn(build_rnn)"
   ]
  },
  {
   "cell_type": "markdown",
   "metadata": {},
   "source": [
    "### Build the Neural Network\n",
    "Apply the functions you implemented above to:\n",
    "- Apply embedding to `input_data` using your `get_embed(input_data, vocab_size, embed_dim)` function.\n",
    "- Build RNN using `cell` and your `build_rnn(cell, inputs)` function.\n",
    "- Apply a fully connected layer with a linear activation and `vocab_size` as the number of outputs.\n",
    "\n",
    "Return the logits and final state in the following tuple (Logits, FinalState) "
   ]
  },
  {
   "cell_type": "code",
   "execution_count": 13,
   "metadata": {
    "scrolled": true
   },
   "outputs": [
    {
     "name": "stdout",
     "output_type": "stream",
     "text": [
      "Tests Passed\n"
     ]
    }
   ],
   "source": [
    "def build_nn(cell,rnn_size, input_data, vocab_size, embed_dim):\n",
    "    \"\"\"\n",
    "    Build part of the neural network\n",
    "    :param cell: RNN cell\n",
    "    :param rnn_size: Size of rnns\n",
    "    :param input_data: Input data\n",
    "    :param vocab_size: Vocabulary size\n",
    "    :param embed_dim: Number of embedding dimensions\n",
    "    :return: Tuple (Logits, FinalState)\n",
    "    \"\"\"\n",
    "    # TODO: Implement Function\n",
    "    inputs = get_embed(input_data,vocab_size,embed_dim)\n",
    "    rnn,final_state = build_rnn(cell,inputs)\n",
    "    logits = tf.contrib.layers.fully_connected(rnn,vocab_size)\n",
    "    return logits,final_state\n",
    "\n",
    "\n",
    "\"\"\"\n",
    "DON'T MODIFY ANYTHING IN THIS CELL THAT IS BELOW THIS LINE\n",
    "\"\"\"\n",
    "tests.test_build_nn(build_nn)"
   ]
  },
  {
   "cell_type": "markdown",
   "metadata": {},
   "source": [
    "### Batches\n",
    "Implement `get_batches` to create batches of input and targets using `int_text`.  The batches should be a Numpy array with the shape `(number of batches, 2, batch size, sequence length)`. Each batch contains two elements:\n",
    "- The first element is a single batch of **input** with the shape `[batch size, sequence length]`\n",
    "- The second element is a single batch of **targets** with the shape `[batch size, sequence length]`\n",
    "\n",
    "If you can't fill the last batch with enough data, drop the last batch.\n",
    "\n",
    "For exmple, `get_batches([1, 2, 3, 4, 5, 6, 7, 8, 9, 10, 11, 12, 13, 14, 15], 2, 3)` would return a Numpy array of the following:\n",
    "```\n",
    "[\n",
    "  # First Batch\n",
    "  [\n",
    "    # Batch of Input\n",
    "    [[ 1  2  3], [ 7  8  9]],\n",
    "    # Batch of targets\n",
    "    [[ 2  3  4], [ 8  9 10]]\n",
    "  ],\n",
    " \n",
    "  # Second Batch\n",
    "  [\n",
    "    # Batch of Input\n",
    "    [[ 4  5  6], [10 11 12]],\n",
    "    # Batch of targets\n",
    "    [[ 5  6  7], [11 12 13]]\n",
    "  ]\n",
    "]\n",
    "```"
   ]
  },
  {
   "cell_type": "code",
   "execution_count": 15,
   "metadata": {},
   "outputs": [
    {
     "data": {
      "text/plain": [
       "\"\\nDON'T MODIFY ANYTHING IN THIS CELL THAT IS BELOW THIS LINE\\n\""
      ]
     },
     "execution_count": 15,
     "metadata": {},
     "output_type": "execute_result"
    }
   ],
   "source": [
    "def get_batches(int_text, batch_size, seq_length):\n",
    "    \"\"\"\n",
    "    Return batches of input and target\n",
    "    :param int_text: Text with the words replaced by their ids\n",
    "    :param batch_size: The size of batch\n",
    "    :param seq_length: The length of sequence\n",
    "    :return: Batches as a Numpy array\n",
    "    \"\"\"\n",
    "    # TODO: Implement Function\n",
    "    num_batches = len(int_text)//(batch_size*seq_length)\n",
    "    inputs = np.array(int_text[:num_batches*batch_size*seq_length+batch_size]).reshape(batch_size,-1)\n",
    "    x,y = inputs[:,:-1],inputs[:,1:]\n",
    "#     batches = np.zeros((num_batches,2,batch_size,seq_length),dtype=int)\n",
    "    for n in range(0,num_batches):\n",
    "#         batches[n,0] = x[:,n:n+seq_length]\n",
    "#         batches[n,1] = y[:,n:n+seq_length]\n",
    "#     print(batches[0,:,:1,:])\n",
    "        yield x[:,n:n+seq_length],y[:,n:n+seq_length]\n",
    "\n",
    "\n",
    "\"\"\"\n",
    "DON'T MODIFY ANYTHING IN THIS CELL THAT IS BELOW THIS LINE\n",
    "\"\"\"\n",
    "# tests.test_get_batches(get_batches)\n",
    "# I use a generator here so the test can't work"
   ]
  },
  {
   "cell_type": "markdown",
   "metadata": {},
   "source": [
    "## Neural Network Training\n",
    "### Hyperparameters\n",
    "Tune the following parameters:\n",
    "\n",
    "- Set `num_epochs` to the number of epochs.\n",
    "- Set `batch_size` to the batch size.\n",
    "- Set `rnn_size` to the size of the RNNs.\n",
    "- Set `embed_dim` to the size of the embedding.\n",
    "- Set `seq_length` to the length of sequence.\n",
    "- Set `learning_rate` to the learning rate.\n",
    "- Set `show_every_n_batches` to the number of batches the neural network should print progress."
   ]
  },
  {
   "cell_type": "code",
   "execution_count": 40,
   "metadata": {
    "collapsed": true
   },
   "outputs": [],
   "source": [
    "# Number of Epochs\n",
    "num_epochs = 500\n",
    "# Batch Size\n",
    "batch_size = 256\n",
    "# RNN Size\n",
    "rnn_size = 128\n",
    "# Number of RNN Layers\n",
    "num_layers = 1\n",
    "# Embedding Dimension Size\n",
    "embed_dim = 300\n",
    "# Sequence Length\n",
    "seq_length = 50\n",
    "# Learning Rate\n",
    "learning_rate = 0.001\n",
    "# Show stats for every n number of batches\n",
    "show_every_n_batches = 5\n",
    "\n",
    "\n",
    "\"\"\"\n",
    "DON'T MODIFY ANYTHING IN THIS CELL THAT IS BELOW THIS LINE\n",
    "\"\"\"\n",
    "save_dir = './save'"
   ]
  },
  {
   "cell_type": "markdown",
   "metadata": {},
   "source": [
    "### Build the Graph\n",
    "Build the graph using the neural network you implemented."
   ]
  },
  {
   "cell_type": "code",
   "execution_count": 55,
   "metadata": {
    "collapsed": true
   },
   "outputs": [],
   "source": [
    "\"\"\"\n",
    "DON'T MODIFY ANYTHING IN THIS CELL\n",
    "\"\"\"\n",
    "from tensorflow.contrib import seq2seq\n",
    "\n",
    "train_graph = tf.Graph()\n",
    "with train_graph.as_default():\n",
    "    vocab_size = len(int_to_vocab)\n",
    "    input_text, targets, lr = get_inputs()\n",
    "    input_data_shape = tf.shape(input_text)\n",
    "    cell, initial_state = get_init_cell(input_data_shape[0], rnn_size,num_layers)\n",
    "    logits, final_state = build_nn(cell, rnn_size, input_text, vocab_size, embed_dim)\n",
    "\n",
    "    # Probabilities for generating words\n",
    "    probs = tf.nn.softmax(logits, name='probs')\n",
    "\n",
    "    # Loss function\n",
    "    cost = seq2seq.sequence_loss(\n",
    "        logits,\n",
    "        targets,\n",
    "        tf.ones([input_data_shape[0], input_data_shape[1]]))\n",
    "\n",
    "    # Optimizer\n",
    "    optimizer = tf.train.AdamOptimizer(lr)\n",
    "\n",
    "    # Gradient Clipping\n",
    "    gradients = optimizer.compute_gradients(cost)\n",
    "    capped_gradients = [(tf.clip_by_value(grad, -1., 1.), var) for grad, var in gradients if grad is not None]\n",
    "    train_op = optimizer.apply_gradients(capped_gradients)\n",
    "    "
   ]
  },
  {
   "cell_type": "markdown",
   "metadata": {},
   "source": [
    "## Train\n",
    "Train the neural network on the preprocessed data.  If you have a hard time getting a good loss, check the [forms](https://discussions.udacity.com/) to see if anyone is having the same problem."
   ]
  },
  {
   "cell_type": "code",
   "execution_count": 42,
   "metadata": {
    "scrolled": true
   },
   "outputs": [
    {
     "name": "stdout",
     "output_type": "stream",
     "text": [
      "Epoch   0/500  Batch    0/5   train_loss = 8.822\n",
      "Epoch   1/500  Batch    0/5   train_loss = 8.755\n",
      "Epoch   2/500  Batch    0/5   train_loss = 8.597\n",
      "Epoch   3/500  Batch    0/5   train_loss = 8.284\n",
      "Epoch   4/500  Batch    0/5   train_loss = 7.912\n",
      "Epoch   5/500  Batch    0/5   train_loss = 7.519\n",
      "Epoch   6/500  Batch    0/5   train_loss = 7.143\n",
      "Epoch   7/500  Batch    0/5   train_loss = 6.820\n",
      "Epoch   8/500  Batch    0/5   train_loss = 6.555\n",
      "Epoch   9/500  Batch    0/5   train_loss = 6.344\n",
      "Epoch  10/500  Batch    0/5   train_loss = 6.180\n",
      "Epoch  11/500  Batch    0/5   train_loss = 6.058\n",
      "Epoch  12/500  Batch    0/5   train_loss = 5.972\n",
      "Epoch  13/500  Batch    0/5   train_loss = 5.916\n",
      "Epoch  14/500  Batch    0/5   train_loss = 5.881\n",
      "Epoch  15/500  Batch    0/5   train_loss = 5.858\n",
      "Epoch  16/500  Batch    0/5   train_loss = 5.841\n",
      "Epoch  17/500  Batch    0/5   train_loss = 5.825\n",
      "Epoch  18/500  Batch    0/5   train_loss = 5.811\n",
      "Epoch  19/500  Batch    0/5   train_loss = 5.797\n",
      "Epoch  20/500  Batch    0/5   train_loss = 5.784\n",
      "Epoch  21/500  Batch    0/5   train_loss = 5.771\n",
      "Epoch  22/500  Batch    0/5   train_loss = 5.757\n",
      "Epoch  23/500  Batch    0/5   train_loss = 5.742\n",
      "Epoch  24/500  Batch    0/5   train_loss = 5.725\n",
      "Epoch  25/500  Batch    0/5   train_loss = 5.706\n",
      "Epoch  26/500  Batch    0/5   train_loss = 5.685\n",
      "Epoch  27/500  Batch    0/5   train_loss = 5.666\n",
      "Epoch  28/500  Batch    0/5   train_loss = 5.646\n",
      "Epoch  29/500  Batch    0/5   train_loss = 5.624\n",
      "Epoch  30/500  Batch    0/5   train_loss = 5.599\n",
      "Epoch  31/500  Batch    0/5   train_loss = 5.574\n",
      "Epoch  32/500  Batch    0/5   train_loss = 5.546\n",
      "Epoch  33/500  Batch    0/5   train_loss = 5.516\n",
      "Epoch  34/500  Batch    0/5   train_loss = 5.483\n",
      "Epoch  35/500  Batch    0/5   train_loss = 5.450\n",
      "Epoch  36/500  Batch    0/5   train_loss = 5.415\n",
      "Epoch  37/500  Batch    0/5   train_loss = 5.379\n",
      "Epoch  38/500  Batch    0/5   train_loss = 5.343\n",
      "Epoch  39/500  Batch    0/5   train_loss = 5.306\n",
      "Epoch  40/500  Batch    0/5   train_loss = 5.268\n",
      "Epoch  41/500  Batch    0/5   train_loss = 5.231\n",
      "Epoch  42/500  Batch    0/5   train_loss = 5.194\n",
      "Epoch  43/500  Batch    0/5   train_loss = 5.158\n",
      "Epoch  44/500  Batch    0/5   train_loss = 5.122\n",
      "Epoch  45/500  Batch    0/5   train_loss = 5.086\n",
      "Epoch  46/500  Batch    0/5   train_loss = 5.050\n",
      "Epoch  47/500  Batch    0/5   train_loss = 5.014\n",
      "Epoch  48/500  Batch    0/5   train_loss = 4.978\n",
      "Epoch  49/500  Batch    0/5   train_loss = 4.941\n",
      "Epoch  50/500  Batch    0/5   train_loss = 4.905\n",
      "Epoch  51/500  Batch    0/5   train_loss = 4.868\n",
      "Epoch  52/500  Batch    0/5   train_loss = 4.832\n",
      "Epoch  53/500  Batch    0/5   train_loss = 4.795\n",
      "Epoch  54/500  Batch    0/5   train_loss = 4.759\n",
      "Epoch  55/500  Batch    0/5   train_loss = 4.723\n",
      "Epoch  56/500  Batch    0/5   train_loss = 4.687\n",
      "Epoch  57/500  Batch    0/5   train_loss = 4.651\n",
      "Epoch  58/500  Batch    0/5   train_loss = 4.615\n",
      "Epoch  59/500  Batch    0/5   train_loss = 4.579\n",
      "Epoch  60/500  Batch    0/5   train_loss = 4.544\n",
      "Epoch  61/500  Batch    0/5   train_loss = 4.509\n",
      "Epoch  62/500  Batch    0/5   train_loss = 4.475\n",
      "Epoch  63/500  Batch    0/5   train_loss = 4.440\n",
      "Epoch  64/500  Batch    0/5   train_loss = 4.406\n",
      "Epoch  65/500  Batch    0/5   train_loss = 4.373\n",
      "Epoch  66/500  Batch    0/5   train_loss = 4.339\n",
      "Epoch  67/500  Batch    0/5   train_loss = 4.306\n",
      "Epoch  68/500  Batch    0/5   train_loss = 4.274\n",
      "Epoch  69/500  Batch    0/5   train_loss = 4.241\n",
      "Epoch  70/500  Batch    0/5   train_loss = 4.210\n",
      "Epoch  71/500  Batch    0/5   train_loss = 4.178\n",
      "Epoch  72/500  Batch    0/5   train_loss = 4.147\n",
      "Epoch  73/500  Batch    0/5   train_loss = 4.117\n",
      "Epoch  74/500  Batch    0/5   train_loss = 4.087\n",
      "Epoch  75/500  Batch    0/5   train_loss = 4.057\n",
      "Epoch  76/500  Batch    0/5   train_loss = 4.028\n",
      "Epoch  77/500  Batch    0/5   train_loss = 3.999\n",
      "Epoch  78/500  Batch    0/5   train_loss = 3.971\n",
      "Epoch  79/500  Batch    0/5   train_loss = 3.943\n",
      "Epoch  80/500  Batch    0/5   train_loss = 3.915\n",
      "Epoch  81/500  Batch    0/5   train_loss = 3.887\n",
      "Epoch  82/500  Batch    0/5   train_loss = 3.860\n",
      "Epoch  83/500  Batch    0/5   train_loss = 3.834\n",
      "Epoch  84/500  Batch    0/5   train_loss = 3.807\n",
      "Epoch  85/500  Batch    0/5   train_loss = 3.782\n",
      "Epoch  86/500  Batch    0/5   train_loss = 3.756\n",
      "Epoch  87/500  Batch    0/5   train_loss = 3.732\n",
      "Epoch  88/500  Batch    0/5   train_loss = 3.707\n",
      "Epoch  89/500  Batch    0/5   train_loss = 3.683\n",
      "Epoch  90/500  Batch    0/5   train_loss = 3.658\n",
      "Epoch  91/500  Batch    0/5   train_loss = 3.634\n",
      "Epoch  92/500  Batch    0/5   train_loss = 3.610\n",
      "Epoch  93/500  Batch    0/5   train_loss = 3.587\n",
      "Epoch  94/500  Batch    0/5   train_loss = 3.564\n",
      "Epoch  95/500  Batch    0/5   train_loss = 3.542\n",
      "Epoch  96/500  Batch    0/5   train_loss = 3.520\n",
      "Epoch  97/500  Batch    0/5   train_loss = 3.498\n",
      "Epoch  98/500  Batch    0/5   train_loss = 3.476\n",
      "Epoch  99/500  Batch    0/5   train_loss = 3.455\n",
      "Epoch 100/500  Batch    0/5   train_loss = 3.434\n",
      "Epoch 101/500  Batch    0/5   train_loss = 3.412\n",
      "Epoch 102/500  Batch    0/5   train_loss = 3.392\n",
      "Epoch 103/500  Batch    0/5   train_loss = 3.371\n",
      "Epoch 104/500  Batch    0/5   train_loss = 3.351\n",
      "Epoch 105/500  Batch    0/5   train_loss = 3.332\n",
      "Epoch 106/500  Batch    0/5   train_loss = 3.312\n",
      "Epoch 107/500  Batch    0/5   train_loss = 3.293\n",
      "Epoch 108/500  Batch    0/5   train_loss = 3.274\n",
      "Epoch 109/500  Batch    0/5   train_loss = 3.255\n",
      "Epoch 110/500  Batch    0/5   train_loss = 3.236\n",
      "Epoch 111/500  Batch    0/5   train_loss = 3.217\n",
      "Epoch 112/500  Batch    0/5   train_loss = 3.199\n",
      "Epoch 113/500  Batch    0/5   train_loss = 3.181\n",
      "Epoch 114/500  Batch    0/5   train_loss = 3.163\n",
      "Epoch 115/500  Batch    0/5   train_loss = 3.145\n",
      "Epoch 116/500  Batch    0/5   train_loss = 3.127\n",
      "Epoch 117/500  Batch    0/5   train_loss = 3.110\n",
      "Epoch 118/500  Batch    0/5   train_loss = 3.093\n",
      "Epoch 119/500  Batch    0/5   train_loss = 3.076\n",
      "Epoch 120/500  Batch    0/5   train_loss = 3.060\n",
      "Epoch 121/500  Batch    0/5   train_loss = 3.043\n",
      "Epoch 122/500  Batch    0/5   train_loss = 3.027\n",
      "Epoch 123/500  Batch    0/5   train_loss = 3.011\n",
      "Epoch 124/500  Batch    0/5   train_loss = 2.995\n",
      "Epoch 125/500  Batch    0/5   train_loss = 2.979\n",
      "Epoch 126/500  Batch    0/5   train_loss = 2.963\n",
      "Epoch 127/500  Batch    0/5   train_loss = 2.948\n",
      "Epoch 128/500  Batch    0/5   train_loss = 2.932\n",
      "Epoch 129/500  Batch    0/5   train_loss = 2.917\n",
      "Epoch 130/500  Batch    0/5   train_loss = 2.901\n",
      "Epoch 131/500  Batch    0/5   train_loss = 2.886\n",
      "Epoch 132/500  Batch    0/5   train_loss = 2.870\n",
      "Epoch 133/500  Batch    0/5   train_loss = 2.854\n",
      "Epoch 134/500  Batch    0/5   train_loss = 2.839\n",
      "Epoch 135/500  Batch    0/5   train_loss = 2.824\n",
      "Epoch 136/500  Batch    0/5   train_loss = 2.809\n",
      "Epoch 137/500  Batch    0/5   train_loss = 2.793\n",
      "Epoch 138/500  Batch    0/5   train_loss = 2.779\n",
      "Epoch 139/500  Batch    0/5   train_loss = 2.764\n",
      "Epoch 140/500  Batch    0/5   train_loss = 2.749\n",
      "Epoch 141/500  Batch    0/5   train_loss = 2.734\n",
      "Epoch 142/500  Batch    0/5   train_loss = 2.720\n",
      "Epoch 143/500  Batch    0/5   train_loss = 2.705\n",
      "Epoch 144/500  Batch    0/5   train_loss = 2.690\n",
      "Epoch 145/500  Batch    0/5   train_loss = 2.676\n",
      "Epoch 146/500  Batch    0/5   train_loss = 2.661\n",
      "Epoch 147/500  Batch    0/5   train_loss = 2.646\n",
      "Epoch 148/500  Batch    0/5   train_loss = 2.632\n",
      "Epoch 149/500  Batch    0/5   train_loss = 2.618\n",
      "Epoch 150/500  Batch    0/5   train_loss = 2.605\n",
      "Epoch 151/500  Batch    0/5   train_loss = 2.591\n",
      "Epoch 152/500  Batch    0/5   train_loss = 2.576\n",
      "Epoch 153/500  Batch    0/5   train_loss = 2.562\n",
      "Epoch 154/500  Batch    0/5   train_loss = 2.547\n",
      "Epoch 155/500  Batch    0/5   train_loss = 2.533\n",
      "Epoch 156/500  Batch    0/5   train_loss = 2.519\n",
      "Epoch 157/500  Batch    0/5   train_loss = 2.505\n",
      "Epoch 158/500  Batch    0/5   train_loss = 2.491\n",
      "Epoch 159/500  Batch    0/5   train_loss = 2.477\n",
      "Epoch 160/500  Batch    0/5   train_loss = 2.463\n",
      "Epoch 161/500  Batch    0/5   train_loss = 2.450\n",
      "Epoch 162/500  Batch    0/5   train_loss = 2.436\n",
      "Epoch 163/500  Batch    0/5   train_loss = 2.422\n",
      "Epoch 164/500  Batch    0/5   train_loss = 2.409\n",
      "Epoch 165/500  Batch    0/5   train_loss = 2.395\n",
      "Epoch 166/500  Batch    0/5   train_loss = 2.381\n",
      "Epoch 167/500  Batch    0/5   train_loss = 2.368\n"
     ]
    },
    {
     "name": "stdout",
     "output_type": "stream",
     "text": [
      "Epoch 168/500  Batch    0/5   train_loss = 2.354\n",
      "Epoch 169/500  Batch    0/5   train_loss = 2.340\n",
      "Epoch 170/500  Batch    0/5   train_loss = 2.327\n",
      "Epoch 171/500  Batch    0/5   train_loss = 2.314\n",
      "Epoch 172/500  Batch    0/5   train_loss = 2.301\n",
      "Epoch 173/500  Batch    0/5   train_loss = 2.287\n",
      "Epoch 174/500  Batch    0/5   train_loss = 2.274\n",
      "Epoch 175/500  Batch    0/5   train_loss = 2.261\n",
      "Epoch 176/500  Batch    0/5   train_loss = 2.247\n",
      "Epoch 177/500  Batch    0/5   train_loss = 2.234\n",
      "Epoch 178/500  Batch    0/5   train_loss = 2.221\n",
      "Epoch 179/500  Batch    0/5   train_loss = 2.208\n",
      "Epoch 180/500  Batch    0/5   train_loss = 2.195\n",
      "Epoch 181/500  Batch    0/5   train_loss = 2.182\n",
      "Epoch 182/500  Batch    0/5   train_loss = 2.170\n",
      "Epoch 183/500  Batch    0/5   train_loss = 2.157\n",
      "Epoch 184/500  Batch    0/5   train_loss = 2.144\n",
      "Epoch 185/500  Batch    0/5   train_loss = 2.131\n",
      "Epoch 186/500  Batch    0/5   train_loss = 2.119\n",
      "Epoch 187/500  Batch    0/5   train_loss = 2.107\n",
      "Epoch 188/500  Batch    0/5   train_loss = 2.095\n",
      "Epoch 189/500  Batch    0/5   train_loss = 2.082\n",
      "Epoch 190/500  Batch    0/5   train_loss = 2.069\n",
      "Epoch 191/500  Batch    0/5   train_loss = 2.058\n",
      "Epoch 192/500  Batch    0/5   train_loss = 2.046\n",
      "Epoch 193/500  Batch    0/5   train_loss = 2.033\n",
      "Epoch 194/500  Batch    0/5   train_loss = 2.021\n",
      "Epoch 195/500  Batch    0/5   train_loss = 2.010\n",
      "Epoch 196/500  Batch    0/5   train_loss = 1.999\n",
      "Epoch 197/500  Batch    0/5   train_loss = 1.988\n",
      "Epoch 198/500  Batch    0/5   train_loss = 1.976\n",
      "Epoch 199/500  Batch    0/5   train_loss = 1.964\n",
      "Epoch 200/500  Batch    0/5   train_loss = 1.953\n",
      "Epoch 201/500  Batch    0/5   train_loss = 1.942\n",
      "Epoch 202/500  Batch    0/5   train_loss = 1.931\n",
      "Epoch 203/500  Batch    0/5   train_loss = 1.920\n",
      "Epoch 204/500  Batch    0/5   train_loss = 1.908\n",
      "Epoch 205/500  Batch    0/5   train_loss = 1.899\n",
      "Epoch 206/500  Batch    0/5   train_loss = 1.888\n",
      "Epoch 207/500  Batch    0/5   train_loss = 1.878\n",
      "Epoch 208/500  Batch    0/5   train_loss = 1.868\n",
      "Epoch 209/500  Batch    0/5   train_loss = 1.857\n",
      "Epoch 210/500  Batch    0/5   train_loss = 1.846\n",
      "Epoch 211/500  Batch    0/5   train_loss = 1.835\n",
      "Epoch 212/500  Batch    0/5   train_loss = 1.825\n",
      "Epoch 213/500  Batch    0/5   train_loss = 1.815\n",
      "Epoch 214/500  Batch    0/5   train_loss = 1.803\n",
      "Epoch 215/500  Batch    0/5   train_loss = 1.793\n",
      "Epoch 216/500  Batch    0/5   train_loss = 1.784\n",
      "Epoch 217/500  Batch    0/5   train_loss = 1.774\n",
      "Epoch 218/500  Batch    0/5   train_loss = 1.763\n",
      "Epoch 219/500  Batch    0/5   train_loss = 1.753\n",
      "Epoch 220/500  Batch    0/5   train_loss = 1.744\n",
      "Epoch 221/500  Batch    0/5   train_loss = 1.734\n",
      "Epoch 222/500  Batch    0/5   train_loss = 1.724\n",
      "Epoch 223/500  Batch    0/5   train_loss = 1.715\n",
      "Epoch 224/500  Batch    0/5   train_loss = 1.706\n",
      "Epoch 225/500  Batch    0/5   train_loss = 1.698\n",
      "Epoch 226/500  Batch    0/5   train_loss = 1.688\n",
      "Epoch 227/500  Batch    0/5   train_loss = 1.679\n",
      "Epoch 228/500  Batch    0/5   train_loss = 1.671\n",
      "Epoch 229/500  Batch    0/5   train_loss = 1.661\n",
      "Epoch 230/500  Batch    0/5   train_loss = 1.653\n",
      "Epoch 231/500  Batch    0/5   train_loss = 1.644\n",
      "Epoch 232/500  Batch    0/5   train_loss = 1.637\n",
      "Epoch 233/500  Batch    0/5   train_loss = 1.629\n",
      "Epoch 234/500  Batch    0/5   train_loss = 1.621\n",
      "Epoch 235/500  Batch    0/5   train_loss = 1.613\n",
      "Epoch 236/500  Batch    0/5   train_loss = 1.604\n",
      "Epoch 237/500  Batch    0/5   train_loss = 1.595\n",
      "Epoch 238/500  Batch    0/5   train_loss = 1.587\n",
      "Epoch 239/500  Batch    0/5   train_loss = 1.579\n",
      "Epoch 240/500  Batch    0/5   train_loss = 1.571\n",
      "Epoch 241/500  Batch    0/5   train_loss = 1.562\n",
      "Epoch 242/500  Batch    0/5   train_loss = 1.555\n",
      "Epoch 243/500  Batch    0/5   train_loss = 1.547\n",
      "Epoch 244/500  Batch    0/5   train_loss = 1.539\n",
      "Epoch 245/500  Batch    0/5   train_loss = 1.531\n",
      "Epoch 246/500  Batch    0/5   train_loss = 1.525\n",
      "Epoch 247/500  Batch    0/5   train_loss = 1.518\n",
      "Epoch 248/500  Batch    0/5   train_loss = 1.510\n",
      "Epoch 249/500  Batch    0/5   train_loss = 1.503\n",
      "Epoch 250/500  Batch    0/5   train_loss = 1.495\n",
      "Epoch 251/500  Batch    0/5   train_loss = 1.488\n",
      "Epoch 252/500  Batch    0/5   train_loss = 1.481\n",
      "Epoch 253/500  Batch    0/5   train_loss = 1.474\n",
      "Epoch 254/500  Batch    0/5   train_loss = 1.467\n",
      "Epoch 255/500  Batch    0/5   train_loss = 1.460\n",
      "Epoch 256/500  Batch    0/5   train_loss = 1.454\n",
      "Epoch 257/500  Batch    0/5   train_loss = 1.446\n",
      "Epoch 258/500  Batch    0/5   train_loss = 1.440\n",
      "Epoch 259/500  Batch    0/5   train_loss = 1.434\n",
      "Epoch 260/500  Batch    0/5   train_loss = 1.427\n",
      "Epoch 261/500  Batch    0/5   train_loss = 1.421\n",
      "Epoch 262/500  Batch    0/5   train_loss = 1.415\n",
      "Epoch 263/500  Batch    0/5   train_loss = 1.408\n",
      "Epoch 264/500  Batch    0/5   train_loss = 1.403\n",
      "Epoch 265/500  Batch    0/5   train_loss = 1.397\n",
      "Epoch 266/500  Batch    0/5   train_loss = 1.389\n",
      "Epoch 267/500  Batch    0/5   train_loss = 1.384\n",
      "Epoch 268/500  Batch    0/5   train_loss = 1.378\n",
      "Epoch 269/500  Batch    0/5   train_loss = 1.374\n",
      "Epoch 270/500  Batch    0/5   train_loss = 1.367\n",
      "Epoch 271/500  Batch    0/5   train_loss = 1.361\n",
      "Epoch 272/500  Batch    0/5   train_loss = 1.356\n",
      "Epoch 273/500  Batch    0/5   train_loss = 1.349\n",
      "Epoch 274/500  Batch    0/5   train_loss = 1.343\n",
      "Epoch 275/500  Batch    0/5   train_loss = 1.337\n",
      "Epoch 276/500  Batch    0/5   train_loss = 1.331\n",
      "Epoch 277/500  Batch    0/5   train_loss = 1.326\n",
      "Epoch 278/500  Batch    0/5   train_loss = 1.321\n",
      "Epoch 279/500  Batch    0/5   train_loss = 1.315\n",
      "Epoch 280/500  Batch    0/5   train_loss = 1.311\n",
      "Epoch 281/500  Batch    0/5   train_loss = 1.306\n",
      "Epoch 282/500  Batch    0/5   train_loss = 1.300\n",
      "Epoch 283/500  Batch    0/5   train_loss = 1.295\n",
      "Epoch 284/500  Batch    0/5   train_loss = 1.289\n",
      "Epoch 285/500  Batch    0/5   train_loss = 1.284\n",
      "Epoch 286/500  Batch    0/5   train_loss = 1.280\n",
      "Epoch 287/500  Batch    0/5   train_loss = 1.283\n",
      "Epoch 288/500  Batch    0/5   train_loss = 1.276\n",
      "Epoch 289/500  Batch    0/5   train_loss = 1.270\n",
      "Epoch 290/500  Batch    0/5   train_loss = 1.265\n",
      "Epoch 291/500  Batch    0/5   train_loss = 1.259\n",
      "Epoch 292/500  Batch    0/5   train_loss = 1.253\n",
      "Epoch 293/500  Batch    0/5   train_loss = 1.248\n",
      "Epoch 294/500  Batch    0/5   train_loss = 1.243\n",
      "Epoch 295/500  Batch    0/5   train_loss = 1.239\n",
      "Epoch 296/500  Batch    0/5   train_loss = 1.234\n",
      "Epoch 297/500  Batch    0/5   train_loss = 1.230\n",
      "Epoch 298/500  Batch    0/5   train_loss = 1.225\n",
      "Epoch 299/500  Batch    0/5   train_loss = 1.220\n",
      "Epoch 300/500  Batch    0/5   train_loss = 1.216\n",
      "Epoch 301/500  Batch    0/5   train_loss = 1.211\n",
      "Epoch 302/500  Batch    0/5   train_loss = 1.207\n",
      "Epoch 303/500  Batch    0/5   train_loss = 1.204\n",
      "Epoch 304/500  Batch    0/5   train_loss = 1.200\n",
      "Epoch 305/500  Batch    0/5   train_loss = 1.195\n",
      "Epoch 306/500  Batch    0/5   train_loss = 1.191\n",
      "Epoch 307/500  Batch    0/5   train_loss = 1.187\n",
      "Epoch 308/500  Batch    0/5   train_loss = 1.184\n",
      "Epoch 309/500  Batch    0/5   train_loss = 1.180\n",
      "Epoch 310/500  Batch    0/5   train_loss = 1.176\n",
      "Epoch 311/500  Batch    0/5   train_loss = 1.173\n",
      "Epoch 312/500  Batch    0/5   train_loss = 1.170\n",
      "Epoch 313/500  Batch    0/5   train_loss = 1.168\n",
      "Epoch 314/500  Batch    0/5   train_loss = 1.167\n",
      "Epoch 315/500  Batch    0/5   train_loss = 1.163\n",
      "Epoch 316/500  Batch    0/5   train_loss = 1.159\n",
      "Epoch 317/500  Batch    0/5   train_loss = 1.155\n",
      "Epoch 318/500  Batch    0/5   train_loss = 1.150\n",
      "Epoch 319/500  Batch    0/5   train_loss = 1.147\n",
      "Epoch 320/500  Batch    0/5   train_loss = 1.143\n",
      "Epoch 321/500  Batch    0/5   train_loss = 1.139\n",
      "Epoch 322/500  Batch    0/5   train_loss = 1.135\n",
      "Epoch 323/500  Batch    0/5   train_loss = 1.131\n",
      "Epoch 324/500  Batch    0/5   train_loss = 1.128\n",
      "Epoch 325/500  Batch    0/5   train_loss = 1.125\n",
      "Epoch 326/500  Batch    0/5   train_loss = 1.121\n",
      "Epoch 327/500  Batch    0/5   train_loss = 1.118\n",
      "Epoch 328/500  Batch    0/5   train_loss = 1.116\n",
      "Epoch 329/500  Batch    0/5   train_loss = 1.114\n",
      "Epoch 330/500  Batch    0/5   train_loss = 1.110\n",
      "Epoch 331/500  Batch    0/5   train_loss = 1.107\n",
      "Epoch 332/500  Batch    0/5   train_loss = 1.104\n",
      "Epoch 333/500  Batch    0/5   train_loss = 1.101\n",
      "Epoch 334/500  Batch    0/5   train_loss = 1.098\n",
      "Epoch 335/500  Batch    0/5   train_loss = 1.095\n"
     ]
    },
    {
     "name": "stdout",
     "output_type": "stream",
     "text": [
      "Epoch 336/500  Batch    0/5   train_loss = 1.092\n",
      "Epoch 337/500  Batch    0/5   train_loss = 1.089\n",
      "Epoch 338/500  Batch    0/5   train_loss = 1.086\n",
      "Epoch 339/500  Batch    0/5   train_loss = 1.083\n",
      "Epoch 340/500  Batch    0/5   train_loss = 1.080\n",
      "Epoch 341/500  Batch    0/5   train_loss = 1.077\n",
      "Epoch 342/500  Batch    0/5   train_loss = 1.074\n",
      "Epoch 343/500  Batch    0/5   train_loss = 1.072\n",
      "Epoch 344/500  Batch    0/5   train_loss = 1.069\n",
      "Epoch 345/500  Batch    0/5   train_loss = 1.067\n",
      "Epoch 346/500  Batch    0/5   train_loss = 1.065\n",
      "Epoch 347/500  Batch    0/5   train_loss = 1.065\n",
      "Epoch 348/500  Batch    0/5   train_loss = 1.065\n",
      "Epoch 349/500  Batch    0/5   train_loss = 1.061\n",
      "Epoch 350/500  Batch    0/5   train_loss = 1.058\n",
      "Epoch 351/500  Batch    0/5   train_loss = 1.055\n",
      "Epoch 352/500  Batch    0/5   train_loss = 1.051\n",
      "Epoch 353/500  Batch    0/5   train_loss = 1.048\n",
      "Epoch 354/500  Batch    0/5   train_loss = 1.046\n",
      "Epoch 355/500  Batch    0/5   train_loss = 1.044\n",
      "Epoch 356/500  Batch    0/5   train_loss = 1.041\n",
      "Epoch 357/500  Batch    0/5   train_loss = 1.039\n",
      "Epoch 358/500  Batch    0/5   train_loss = 1.036\n",
      "Epoch 359/500  Batch    0/5   train_loss = 1.034\n",
      "Epoch 360/500  Batch    0/5   train_loss = 1.032\n",
      "Epoch 361/500  Batch    0/5   train_loss = 1.030\n",
      "Epoch 362/500  Batch    0/5   train_loss = 1.027\n",
      "Epoch 363/500  Batch    0/5   train_loss = 1.025\n",
      "Epoch 364/500  Batch    0/5   train_loss = 1.023\n",
      "Epoch 365/500  Batch    0/5   train_loss = 1.021\n",
      "Epoch 366/500  Batch    0/5   train_loss = 1.020\n",
      "Epoch 367/500  Batch    0/5   train_loss = 1.018\n",
      "Epoch 368/500  Batch    0/5   train_loss = 1.016\n",
      "Epoch 369/500  Batch    0/5   train_loss = 1.014\n",
      "Epoch 370/500  Batch    0/5   train_loss = 1.013\n",
      "Epoch 371/500  Batch    0/5   train_loss = 1.010\n",
      "Epoch 372/500  Batch    0/5   train_loss = 1.009\n",
      "Epoch 373/500  Batch    0/5   train_loss = 1.006\n",
      "Epoch 374/500  Batch    0/5   train_loss = 1.004\n",
      "Epoch 375/500  Batch    0/5   train_loss = 1.002\n",
      "Epoch 376/500  Batch    0/5   train_loss = 1.000\n",
      "Epoch 377/500  Batch    0/5   train_loss = 0.998\n",
      "Epoch 378/500  Batch    0/5   train_loss = 0.997\n",
      "Epoch 379/500  Batch    0/5   train_loss = 0.995\n",
      "Epoch 380/500  Batch    0/5   train_loss = 0.993\n",
      "Epoch 381/500  Batch    0/5   train_loss = 0.991\n",
      "Epoch 382/500  Batch    0/5   train_loss = 0.990\n",
      "Epoch 383/500  Batch    0/5   train_loss = 0.988\n",
      "Epoch 384/500  Batch    0/5   train_loss = 0.986\n",
      "Epoch 385/500  Batch    0/5   train_loss = 0.985\n",
      "Epoch 386/500  Batch    0/5   train_loss = 0.983\n",
      "Epoch 387/500  Batch    0/5   train_loss = 0.981\n",
      "Epoch 388/500  Batch    0/5   train_loss = 0.979\n",
      "Epoch 389/500  Batch    0/5   train_loss = 0.978\n",
      "Epoch 390/500  Batch    0/5   train_loss = 0.976\n",
      "Epoch 391/500  Batch    0/5   train_loss = 0.975\n",
      "Epoch 392/500  Batch    0/5   train_loss = 0.974\n",
      "Epoch 393/500  Batch    0/5   train_loss = 0.972\n",
      "Epoch 394/500  Batch    0/5   train_loss = 0.971\n",
      "Epoch 395/500  Batch    0/5   train_loss = 0.969\n",
      "Epoch 396/500  Batch    0/5   train_loss = 0.968\n",
      "Epoch 397/500  Batch    0/5   train_loss = 0.967\n",
      "Epoch 398/500  Batch    0/5   train_loss = 0.965\n",
      "Epoch 399/500  Batch    0/5   train_loss = 0.963\n",
      "Epoch 400/500  Batch    0/5   train_loss = 0.962\n",
      "Epoch 401/500  Batch    0/5   train_loss = 0.961\n",
      "Epoch 402/500  Batch    0/5   train_loss = 0.960\n",
      "Epoch 403/500  Batch    0/5   train_loss = 0.958\n",
      "Epoch 404/500  Batch    0/5   train_loss = 0.957\n",
      "Epoch 405/500  Batch    0/5   train_loss = 0.956\n",
      "Epoch 406/500  Batch    0/5   train_loss = 0.955\n",
      "Epoch 407/500  Batch    0/5   train_loss = 0.953\n",
      "Epoch 408/500  Batch    0/5   train_loss = 0.952\n",
      "Epoch 409/500  Batch    0/5   train_loss = 0.950\n",
      "Epoch 410/500  Batch    0/5   train_loss = 0.949\n",
      "Epoch 411/500  Batch    0/5   train_loss = 0.948\n",
      "Epoch 412/500  Batch    0/5   train_loss = 0.947\n",
      "Epoch 413/500  Batch    0/5   train_loss = 0.945\n",
      "Epoch 414/500  Batch    0/5   train_loss = 0.944\n",
      "Epoch 415/500  Batch    0/5   train_loss = 0.943\n",
      "Epoch 416/500  Batch    0/5   train_loss = 0.942\n",
      "Epoch 417/500  Batch    0/5   train_loss = 0.941\n",
      "Epoch 418/500  Batch    0/5   train_loss = 0.940\n",
      "Epoch 419/500  Batch    0/5   train_loss = 0.938\n",
      "Epoch 420/500  Batch    0/5   train_loss = 0.937\n",
      "Epoch 421/500  Batch    0/5   train_loss = 0.938\n",
      "Epoch 422/500  Batch    0/5   train_loss = 0.936\n",
      "Epoch 423/500  Batch    0/5   train_loss = 0.935\n",
      "Epoch 424/500  Batch    0/5   train_loss = 0.934\n",
      "Epoch 425/500  Batch    0/5   train_loss = 0.932\n",
      "Epoch 426/500  Batch    0/5   train_loss = 0.931\n",
      "Epoch 427/500  Batch    0/5   train_loss = 0.930\n",
      "Epoch 428/500  Batch    0/5   train_loss = 0.929\n",
      "Epoch 429/500  Batch    0/5   train_loss = 0.928\n",
      "Epoch 430/500  Batch    0/5   train_loss = 0.927\n",
      "Epoch 431/500  Batch    0/5   train_loss = 0.926\n",
      "Epoch 432/500  Batch    0/5   train_loss = 0.925\n",
      "Epoch 433/500  Batch    0/5   train_loss = 0.924\n",
      "Epoch 434/500  Batch    0/5   train_loss = 0.923\n",
      "Epoch 435/500  Batch    0/5   train_loss = 0.922\n",
      "Epoch 436/500  Batch    0/5   train_loss = 0.921\n",
      "Epoch 437/500  Batch    0/5   train_loss = 0.920\n",
      "Epoch 438/500  Batch    0/5   train_loss = 0.919\n",
      "Epoch 439/500  Batch    0/5   train_loss = 0.918\n",
      "Epoch 440/500  Batch    0/5   train_loss = 0.917\n",
      "Epoch 441/500  Batch    0/5   train_loss = 0.917\n",
      "Epoch 442/500  Batch    0/5   train_loss = 0.916\n",
      "Epoch 443/500  Batch    0/5   train_loss = 0.915\n",
      "Epoch 444/500  Batch    0/5   train_loss = 0.914\n",
      "Epoch 445/500  Batch    0/5   train_loss = 0.913\n",
      "Epoch 446/500  Batch    0/5   train_loss = 0.912\n",
      "Epoch 447/500  Batch    0/5   train_loss = 0.911\n",
      "Epoch 448/500  Batch    0/5   train_loss = 0.910\n",
      "Epoch 449/500  Batch    0/5   train_loss = 0.909\n",
      "Epoch 450/500  Batch    0/5   train_loss = 0.909\n",
      "Epoch 451/500  Batch    0/5   train_loss = 0.908\n",
      "Epoch 452/500  Batch    0/5   train_loss = 0.907\n",
      "Epoch 453/500  Batch    0/5   train_loss = 0.906\n",
      "Epoch 454/500  Batch    0/5   train_loss = 0.906\n",
      "Epoch 455/500  Batch    0/5   train_loss = 0.905\n",
      "Epoch 456/500  Batch    0/5   train_loss = 0.904\n",
      "Epoch 457/500  Batch    0/5   train_loss = 0.903\n",
      "Epoch 458/500  Batch    0/5   train_loss = 0.902\n",
      "Epoch 459/500  Batch    0/5   train_loss = 0.902\n",
      "Epoch 460/500  Batch    0/5   train_loss = 0.901\n",
      "Epoch 461/500  Batch    0/5   train_loss = 0.900\n",
      "Epoch 462/500  Batch    0/5   train_loss = 0.899\n",
      "Epoch 463/500  Batch    0/5   train_loss = 0.898\n",
      "Epoch 464/500  Batch    0/5   train_loss = 0.898\n",
      "Epoch 465/500  Batch    0/5   train_loss = 0.897\n",
      "Epoch 466/500  Batch    0/5   train_loss = 0.896\n",
      "Epoch 467/500  Batch    0/5   train_loss = 0.895\n",
      "Epoch 468/500  Batch    0/5   train_loss = 0.895\n",
      "Epoch 469/500  Batch    0/5   train_loss = 0.894\n",
      "Epoch 470/500  Batch    0/5   train_loss = 0.893\n",
      "Epoch 471/500  Batch    0/5   train_loss = 0.893\n",
      "Epoch 472/500  Batch    0/5   train_loss = 0.892\n",
      "Epoch 473/500  Batch    0/5   train_loss = 0.891\n",
      "Epoch 474/500  Batch    0/5   train_loss = 0.891\n",
      "Epoch 475/500  Batch    0/5   train_loss = 0.890\n",
      "Epoch 476/500  Batch    0/5   train_loss = 0.890\n",
      "Epoch 477/500  Batch    0/5   train_loss = 0.889\n",
      "Epoch 478/500  Batch    0/5   train_loss = 0.888\n",
      "Epoch 479/500  Batch    0/5   train_loss = 0.888\n",
      "Epoch 480/500  Batch    0/5   train_loss = 0.887\n",
      "Epoch 481/500  Batch    0/5   train_loss = 0.886\n",
      "Epoch 482/500  Batch    0/5   train_loss = 0.886\n",
      "Epoch 483/500  Batch    0/5   train_loss = 0.885\n",
      "Epoch 484/500  Batch    0/5   train_loss = 0.885\n",
      "Epoch 485/500  Batch    0/5   train_loss = 0.886\n",
      "Epoch 486/500  Batch    0/5   train_loss = 0.886\n",
      "Epoch 487/500  Batch    0/5   train_loss = 0.886\n",
      "Epoch 488/500  Batch    0/5   train_loss = 0.885\n",
      "Epoch 489/500  Batch    0/5   train_loss = 0.884\n",
      "Epoch 490/500  Batch    0/5   train_loss = 0.883\n",
      "Epoch 491/500  Batch    0/5   train_loss = 0.882\n",
      "Epoch 492/500  Batch    0/5   train_loss = 0.881\n",
      "Epoch 493/500  Batch    0/5   train_loss = 0.880\n",
      "Epoch 494/500  Batch    0/5   train_loss = 0.880\n",
      "Epoch 495/500  Batch    0/5   train_loss = 0.879\n",
      "Epoch 496/500  Batch    0/5   train_loss = 0.878\n",
      "Epoch 497/500  Batch    0/5   train_loss = 0.878\n",
      "Epoch 498/500  Batch    0/5   train_loss = 0.877\n",
      "Epoch 499/500  Batch    0/5   train_loss = 0.877\n"
     ]
    }
   ],
   "source": [
    "\"\"\"\n",
    "DON'T MODIFY ANYTHING IN THIS CELL\n",
    "\"\"\"\n",
    "# batches = get_batches(int_text, batch_size, seq_length)\n",
    "\n",
    "with tf.Session(graph=train_graph) as sess:\n",
    "    sess.run(tf.global_variables_initializer())\n",
    "    num_batches = len(int_text)//(batch_size*seq_length)\n",
    "\n",
    "    for epoch_i in range(num_epochs):\n",
    "        generator = get_batches(int_text, batch_size, seq_length)\n",
    "        state = sess.run(initial_state, {input_text: next(generator)[0]})\n",
    "\n",
    "        for ii, (x,y) in enumerate(generator):\n",
    "            feed = {\n",
    "                input_text: x,\n",
    "                targets: y,\n",
    "                initial_state: state,\n",
    "                lr: learning_rate}\n",
    "            train_loss, state, _ = sess.run([cost, final_state, train_op], feed)\n",
    "\n",
    "            # Show every <show_every_n_batches> batches\n",
    "            if (epoch_i * num_batches + ii) % show_every_n_batches == 0:\n",
    "                print('Epoch {:>3}/{}  Batch {:>4}/{}   train_loss = {:.3f}'.format(                   \n",
    "                    epoch_i,\n",
    "                    num_epochs,\n",
    "                    ii,\n",
    "                    num_batches,\n",
    "                    train_loss))\n",
    "    # Save Model\n",
    "    saver = tf.train.Saver()\n",
    "    saver.save(sess, save_dir)\n"
   ]
  },
  {
   "cell_type": "markdown",
   "metadata": {},
   "source": [
    "## Save Parameters\n",
    "Save `seq_length` and `save_dir` for generating a new TV script."
   ]
  },
  {
   "cell_type": "code",
   "execution_count": 47,
   "metadata": {
    "collapsed": true
   },
   "outputs": [],
   "source": [
    "\"\"\"\n",
    "DON'T MODIFY ANYTHING IN THIS CELL\n",
    "\"\"\"\n",
    "# Save parameters for checkpoint\n",
    "helper.save_params((seq_length, save_dir))"
   ]
  },
  {
   "cell_type": "markdown",
   "metadata": {},
   "source": [
    "# Checkpoint"
   ]
  },
  {
   "cell_type": "code",
   "execution_count": 56,
   "metadata": {
    "collapsed": true
   },
   "outputs": [],
   "source": [
    "\"\"\"\n",
    "DON'T MODIFY ANYTHING IN THIS CELL\n",
    "\"\"\"\n",
    "import tensorflow as tf\n",
    "import numpy as np\n",
    "import helper\n",
    "import problem_unittests as tests\n",
    "\n",
    "_, vocab_to_int, int_to_vocab, token_dict = helper.load_preprocess()\n",
    "seq_length, load_dir = helper.load_params()"
   ]
  },
  {
   "cell_type": "markdown",
   "metadata": {},
   "source": [
    "## Implement Generate Functions\n",
    "### Get Tensors\n",
    "Get tensors from `loaded_graph` using the function [`get_tensor_by_name()`](https://www.tensorflow.org/api_docs/python/tf/Graph#get_tensor_by_name).  Get the tensors using the following names:\n",
    "- \"input:0\"\n",
    "- \"initial_state:0\"\n",
    "- \"final_state:0\"\n",
    "- \"probs:0\"\n",
    "\n",
    "Return the tensors in the following tuple `(InputTensor, InitialStateTensor, FinalStateTensor, ProbsTensor)` "
   ]
  },
  {
   "cell_type": "code",
   "execution_count": 44,
   "metadata": {},
   "outputs": [
    {
     "name": "stdout",
     "output_type": "stream",
     "text": [
      "Tests Passed\n"
     ]
    }
   ],
   "source": [
    "def get_tensors(loaded_graph):\n",
    "    \"\"\"\n",
    "    Get input, initial state, final state, and probabilities tensor from <loaded_graph>\n",
    "    :param loaded_graph: TensorFlow graph loaded from file\n",
    "    :return: Tuple (InputTensor, InitialStateTensor, FinalStateTensor, ProbsTensor)\n",
    "    \"\"\"\n",
    "    # TODO: Implement Function\n",
    "    InputTensor = tf.Graph.get_tensor_by_name(loaded_graph,'input:0')\n",
    "    InitialStateTensor = tf.Graph.get_tensor_by_name(loaded_graph,'initial_state:0')\n",
    "    FinalStateTensor = tf.Graph.get_tensor_by_name(loaded_graph,'final_state:0')\n",
    "    ProbsTensor = tf.Graph.get_tensor_by_name(loaded_graph,'probs:0')\n",
    "    return (InputTensor, InitialStateTensor, FinalStateTensor, ProbsTensor)\n",
    "\n",
    "\n",
    "\"\"\"\n",
    "DON'T MODIFY ANYTHING IN THIS CELL THAT IS BELOW THIS LINE\n",
    "\"\"\"\n",
    "tests.test_get_tensors(get_tensors)"
   ]
  },
  {
   "cell_type": "markdown",
   "metadata": {},
   "source": [
    "### Choose Word\n",
    "Implement the `pick_word()` function to select the next word using `probabilities`."
   ]
  },
  {
   "cell_type": "code",
   "execution_count": 45,
   "metadata": {},
   "outputs": [
    {
     "name": "stdout",
     "output_type": "stream",
     "text": [
      "Tests Passed\n"
     ]
    }
   ],
   "source": [
    "def pick_word(probabilities, int_to_vocab):\n",
    "    \"\"\"\n",
    "    Pick the next word in the generated text\n",
    "    :param probabilities: Probabilites of the next word\n",
    "    :param int_to_vocab: Dictionary of word ids as the keys and words as the values\n",
    "    :return: String of the predicted word\n",
    "    \"\"\"\n",
    "    # TODO: Implement Function\n",
    "    predict_word = int_to_vocab[np.argmax(probabilities)]\n",
    "    return predict_word\n",
    "\n",
    "\n",
    "\"\"\"\n",
    "DON'T MODIFY ANYTHING IN THIS CELL THAT IS BELOW THIS LINE\n",
    "\"\"\"\n",
    "tests.test_pick_word(pick_word)"
   ]
  },
  {
   "cell_type": "markdown",
   "metadata": {},
   "source": [
    "## Generate TV Script\n",
    "This will generate the TV script for you.  Set `gen_length` to the length of TV script you want to generate."
   ]
  },
  {
   "cell_type": "code",
   "execution_count": 60,
   "metadata": {},
   "outputs": [
    {
     "name": "stdout",
     "output_type": "stream",
     "text": [
      "barney_gumble:(drunk) look, the thing is my god. it's you, and god bless america.\n",
      "\n",
      "homer_simpson:(disappointed) it's over.\n",
      "carl_carlson: oh, i'd love to discuss your problems.\n",
      "lenny_leonard: hey, homer. i don't need to learn / 'cause we're going to a secret with the.\n",
      "carl_carlson: that's the this. / canyonero(then) ahh. what the monster! / yeah, we're going to the top.(frink noise)\n",
      "lisa_simpson:(sighs) why did i ever think i needed a clone?\n",
      "moe_szyslak: what's the matter, homer? my militia has a secret christian underpants one leg at a time.\n",
      "moe_szyslak:(\")\n",
      "homer_simpson:(\" shoo fly shoo\") calf's in the field so you and god bless america.\n",
      "\n",
      "\n",
      "lenny_leonard: it's not an apology for, the treasure on the eyes.\n",
      "moe_szyslak:(still) i don't want to the pool table.\n",
      "\n",
      "\n",
      "\n",
      "\n",
      "carl_carlson: i'd say(throws another punch) i know! that's the beauty people. i'm need a little more like! i had the new no.\n",
      "lenny_leonard: no...\n",
      "carl_carlson: ah, no.\n",
      "lenny_leonard: yeah, nice try there, twelve-step.\n",
      "\n",
      "\n",
      "homer_simpson:(sadly) well, well, if it wasn't\" stayin' alive?\n",
      "homer_simpson:(sadly) the poor man, big day....\n",
      "homer_simpson:(runs in) hey, moe, got any milk?\n",
      "moe_szyslak: it's either milk... or paint.\n",
      "homer_simpson:(disappointed) it's paint. or is it?\n",
      "homer_simpson: yeah, while you're at it, have you, moe. get it?\n",
      "chief_wiggum: sorry, i'm afraid the end it, the money back the new guy more.\n",
      "moe_szyslak: ah, life is a cow college!\n",
      "moe_szyslak:(to moe, then) i to need to offer besides money.\n",
      "moe_szyslak:(serious) no, moe.\n",
      "moe_szyslak:(to barney) are you man, but that i don't know.\n",
      "moe_szyslak:(to himself) this is the man, there's nothin' we all pick the law and betrayed a friend.\n",
      "homer_simpson:(to himself) this is a in the money back. 'cause you...\n",
      "moe_szyslak: oh, it ain't no mystery-- whole doesn't that the world, and the new world.\n",
      "carl_carlson: that's the beauty moe_szyslak:(to moe, then) hey, i'm chuck. / they said...(moans)\n",
      "moe_szyslak: what's the homer, if you're the back, moe.\n",
      "homer_simpson: yeah, you sure look\n"
     ]
    }
   ],
   "source": [
    "gen_length = 500\n",
    "# homer_simpson, moe_szyslak, or Barney_Gumble\n",
    "prime_word = 'barney_gumble'\n",
    "\n",
    "\"\"\"\n",
    "DON'T MODIFY ANYTHING IN THIS CELL THAT IS BELOW THIS LINE\n",
    "\"\"\"\n",
    "loaded_graph = tf.Graph()\n",
    "with tf.Session(graph=loaded_graph) as sess:\n",
    "    # Load saved model\n",
    "    loader = tf.train.import_meta_graph(load_dir + '.meta')\n",
    "    loader.restore(sess, load_dir)\n",
    "\n",
    "    # Get Tensors from loaded model\n",
    "    input_text, initial_state, final_state, probs = get_tensors(loaded_graph)\n",
    "\n",
    "    # Sentences generation setup\n",
    "    gen_sentences = [prime_word + ':']\n",
    "    prev_state = sess.run(initial_state, {input_text: np.array([[1]])})\n",
    "\n",
    "    # Generate sentences\n",
    "    for n in range(gen_length):\n",
    "        # Dynamic Input\n",
    "        dyn_input = [[vocab_to_int[word] for word in gen_sentences[-seq_length:]]]\n",
    "        dyn_seq_length = len(dyn_input[0])\n",
    "\n",
    "        # Get Prediction\n",
    "        probabilities, prev_state = sess.run(\n",
    "            [probs, final_state],\n",
    "            {input_text: dyn_input, initial_state: prev_state})\n",
    "        \n",
    "        pred_word = pick_word(probabilities[dyn_seq_length-1], int_to_vocab)\n",
    "\n",
    "        gen_sentences.append(pred_word)\n",
    "    \n",
    "    # Remove tokens\n",
    "    tv_script = ' '.join(gen_sentences)\n",
    "    for key, token in token_dict.items():\n",
    "        ending = ' ' if key in ['\\n', '(', '\"'] else ''\n",
    "        tv_script = tv_script.replace(' ' + token.lower(), key)\n",
    "    tv_script = tv_script.replace('\\n ', '\\n')\n",
    "    tv_script = tv_script.replace('( ', '(')\n",
    "        \n",
    "    print(tv_script)"
   ]
  },
  {
   "cell_type": "markdown",
   "metadata": {},
   "source": [
    "# The TV Script is Nonsensical\n",
    "It's ok if the TV script doesn't make any sense.  We trained on less than a megabyte of text.  In order to get good results, you'll have to use a smaller vocabulary or get more data.  Luckly there's more data!  As we mentioned in the begging of this project, this is a subset of [another dataset](https://www.kaggle.com/wcukierski/the-simpsons-by-the-data).  We didn't have you train on all the data, because that would take too long.  However, you are free to train your neural network on all the data.  After you complete the project, of course.\n",
    "# Submitting This Project\n",
    "When submitting this project, make sure to run all the cells before saving the notebook. Save the notebook file as \"dlnd_tv_script_generation.ipynb\" and save it as a HTML file under \"File\" -> \"Download as\". Include the \"helper.py\" and \"problem_unittests.py\" files in your submission."
   ]
  }
 ],
 "metadata": {
  "kernelspec": {
   "display_name": "Python 3",
   "language": "python",
   "name": "python3"
  },
  "language_info": {
   "codemirror_mode": {
    "name": "ipython",
    "version": 3
   },
   "file_extension": ".py",
   "mimetype": "text/x-python",
   "name": "python",
   "nbconvert_exporter": "python",
   "pygments_lexer": "ipython3",
   "version": "3.5.3"
  },
  "widgets": {
   "state": {},
   "version": "1.1.2"
  }
 },
 "nbformat": 4,
 "nbformat_minor": 1
}
