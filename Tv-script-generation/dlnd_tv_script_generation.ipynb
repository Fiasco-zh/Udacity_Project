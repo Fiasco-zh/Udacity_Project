{
 "cells": [
  {
   "cell_type": "markdown",
   "metadata": {},
   "source": [
    "# TV Script Generation\n",
    "In this project, you'll generate your own [Simpsons](https://en.wikipedia.org/wiki/The_Simpsons) TV scripts using RNNs.  You'll be using part of the [Simpsons dataset](https://www.kaggle.com/wcukierski/the-simpsons-by-the-data) of scripts from 27 seasons.  The Neural Network you'll build will generate a new TV script for a scene at [Moe's Tavern](https://simpsonswiki.com/wiki/Moe's_Tavern).\n",
    "## Get the Data\n",
    "The data is already provided for you.  You'll be using a subset of the original dataset.  It consists of only the scenes in Moe's Tavern.  This doesn't include other versions of the tavern, like \"Moe's Cavern\", \"Flaming Moe's\", \"Uncle Moe's Family Feed-Bag\", etc.."
   ]
  },
  {
   "cell_type": "code",
   "execution_count": 9,
   "metadata": {
    "scrolled": true
   },
   "outputs": [
    {
     "name": "stdout",
     "output_type": "stream",
     "text": [
      "The data is already downloaded. Now loading it \n",
      "Load kaggle dataset\n",
      "Data loaded\n"
     ]
    }
   ],
   "source": [
    "#download data from kaggle\n",
    "import helper\n",
    "import csv\n",
    "import urllib.request\n",
    "import zipfile  \n",
    "import os\n",
    "\n",
    "url = 'https://storage.googleapis.com/kaggle-datasets/203/430/the-simpsons-by-the-data.zip?GoogleAccessId=datasets@kaggle-161607.iam.gserviceaccount.com&Expires=1498385518&Signature=ctO9lXGSDIeJu%2FwA6%2BZiE9GVQAzdDzY3YnOQDLbAExM6HxA8SaythsHXgt87nbJuK6lGXQhLEhR1M%2BZEC2kMKTxH4KangihiN0LRo57E%2F7V6zAmX4F6KcfwCEA82aXBPDalGFCCOuOeyE%2BmL3ePJYBI3ViCAB2u0Zap7O8w%2FF16g3TcSu79%2B182p8ET4kGSztixkYoeL4MDsDcWSP65IQW3ZhNlzQgtVVu6Yp9MtsB0dpvSUY74j8C4kJktZPzm%2BJ243lYPPcI%2FFDo7cPZl%2FzxomqM5xsJICkC1gQhafUXHqvziawCHbnA%2B%2BLy4u9%2FNnoEggfgTRQfupIkMnNnT3lQ%3D%3D'\n",
    "download_dir = './data/simpsons/data.zip'\n",
    "\n",
    "if not os.path.isfile(download_dir):\n",
    "    print('Start downloading, please wait a moment.\\n')\n",
    "    urllib.request.urlretrieve(url,download_dir)\n",
    "    print('Successfully downloaded!\\n')\n",
    "    \n",
    "# unzip file\n",
    "    print('unzip data now\\n')\n",
    "    helper.un_zip('./data/simpsons/data.zip')\n",
    "    print('Successfully unzipped!')\n",
    "else:\n",
    "    print('The data is already downloaded. Now loading it ')\n",
    "    \n",
    "# Load the full training data\n",
    "\n",
    "data_dir = './data/simpsons/data.zip_files/simpsons_script_lines.csv'\n",
    "text = helper.load_csv_data(data_dir)\n",
    "print('Data loaded')"
   ]
  },
  {
   "cell_type": "markdown",
   "metadata": {},
   "source": [
    "## Attention: If you want to use kaggle dataset, not to run the following 1 cell."
   ]
  },
  {
   "cell_type": "code",
   "execution_count": 1,
   "metadata": {},
   "outputs": [
    {
     "name": "stdout",
     "output_type": "stream",
     "text": [
      "Load Udacity dataset\n"
     ]
    }
   ],
   "source": [
    "# \"\"\"\n",
    "# DON'T MODIFY ANYTHING IN THIS CELL\n",
    "# \"\"\"\n",
    "\n",
    "# Load the udacity data\n",
    "import helper\n",
    "\n",
    "data_dir = './data/simpsons/moes_tavern_lines.txt'\n",
    "text = helper.load_data(data_dir)\n",
    "# Ignore notice, since we don't use it for analysing the data"
   ]
  },
  {
   "cell_type": "code",
   "execution_count": 2,
   "metadata": {},
   "outputs": [
    {
     "data": {
      "text/plain": [
       "\"Moe_Szyslak: (INTO PHONE) Moe's Tavern. Where the elite meet to drink.\\nBart_Simpson: Eh, yeah, hello, is Mike there? Last name, Rotch.\\nMoe_Szyslak: (INTO PHONE) Hold on, I'll check. (TO BARFLIES) Mike Rotch. Mike Rotch. Hey, has anybody seen Mike Rotch, lately?\\nMoe_Szyslak: (INTO PHONE) Listen you little puke. One of these days I'm gonna catch you, and I'm gonna carve my name on your back with an ice pick.\\nMoe_Szyslak: What's the matter Homer? You're not your normal effervescent self.\\nHomer_Simp\""
      ]
     },
     "execution_count": 2,
     "metadata": {},
     "output_type": "execute_result"
    }
   ],
   "source": [
    "text[:500]"
   ]
  },
  {
   "cell_type": "markdown",
   "metadata": {},
   "source": [
    "## Explore the Data\n",
    "Play around with `view_sentence_range` to view different parts of the data."
   ]
  },
  {
   "cell_type": "code",
   "execution_count": 2,
   "metadata": {},
   "outputs": [
    {
     "name": "stdout",
     "output_type": "stream",
     "text": [
      "Dataset Stats\n"
     ]
    },
    {
     "ename": "NameError",
     "evalue": "name 'text' is not defined",
     "output_type": "error",
     "traceback": [
      "\u001b[1;31m---------------------------------------------------------------------------\u001b[0m",
      "\u001b[1;31mNameError\u001b[0m                                 Traceback (most recent call last)",
      "\u001b[1;32m<ipython-input-2-f125dffd96cc>\u001b[0m in \u001b[0;36m<module>\u001b[1;34m()\u001b[0m\n\u001b[0;32m      7\u001b[0m \u001b[1;33m\u001b[0m\u001b[0m\n\u001b[0;32m      8\u001b[0m \u001b[0mprint\u001b[0m\u001b[1;33m(\u001b[0m\u001b[1;34m'Dataset Stats'\u001b[0m\u001b[1;33m)\u001b[0m\u001b[1;33m\u001b[0m\u001b[0m\n\u001b[1;32m----> 9\u001b[1;33m \u001b[0mprint\u001b[0m\u001b[1;33m(\u001b[0m\u001b[1;34m'Roughly the number of unique words: {}'\u001b[0m\u001b[1;33m.\u001b[0m\u001b[0mformat\u001b[0m\u001b[1;33m(\u001b[0m\u001b[0mlen\u001b[0m\u001b[1;33m(\u001b[0m\u001b[1;33m{\u001b[0m\u001b[0mword\u001b[0m\u001b[1;33m:\u001b[0m \u001b[1;32mNone\u001b[0m \u001b[1;32mfor\u001b[0m \u001b[0mword\u001b[0m \u001b[1;32min\u001b[0m \u001b[0mtext\u001b[0m\u001b[1;33m.\u001b[0m\u001b[0msplit\u001b[0m\u001b[1;33m(\u001b[0m\u001b[1;33m)\u001b[0m\u001b[1;33m}\u001b[0m\u001b[1;33m)\u001b[0m\u001b[1;33m)\u001b[0m\u001b[1;33m)\u001b[0m\u001b[1;33m\u001b[0m\u001b[0m\n\u001b[0m\u001b[0;32m     10\u001b[0m \u001b[0mscenes\u001b[0m \u001b[1;33m=\u001b[0m \u001b[0mtext\u001b[0m\u001b[1;33m.\u001b[0m\u001b[0msplit\u001b[0m\u001b[1;33m(\u001b[0m\u001b[1;34m'\\n\\n'\u001b[0m\u001b[1;33m)\u001b[0m\u001b[1;33m\u001b[0m\u001b[0m\n\u001b[0;32m     11\u001b[0m \u001b[0mprint\u001b[0m\u001b[1;33m(\u001b[0m\u001b[1;34m'Number of scenes: {}'\u001b[0m\u001b[1;33m.\u001b[0m\u001b[0mformat\u001b[0m\u001b[1;33m(\u001b[0m\u001b[0mlen\u001b[0m\u001b[1;33m(\u001b[0m\u001b[0mscenes\u001b[0m\u001b[1;33m)\u001b[0m\u001b[1;33m)\u001b[0m\u001b[1;33m)\u001b[0m\u001b[1;33m\u001b[0m\u001b[0m\n",
      "\u001b[1;31mNameError\u001b[0m: name 'text' is not defined"
     ]
    }
   ],
   "source": [
    "view_sentence_range = (0, 10)\n",
    "\n",
    "\"\"\"\n",
    "DON'T MODIFY ANYTHING IN THIS CELL\n",
    "\"\"\"\n",
    "import numpy as np\n",
    "\n",
    "print('Dataset Stats')\n",
    "print('Roughly the number of unique words: {}'.format(len({word: None for word in text.split()})))\n",
    "scenes = text.split('\\n\\n')\n",
    "print('Number of scenes: {}'.format(len(scenes)))\n",
    "sentence_count_scene = [scene.count('\\n') for scene in scenes]\n",
    "print('Average number of sentences in each scene: {}'.format(np.average(sentence_count_scene)))\n",
    "\n",
    "sentences = [sentence for scene in scenes for sentence in scene.split('\\n')]\n",
    "print('Number of lines: {}'.format(len(sentences)))\n",
    "word_count_sentence = [len(sentence.split()) for sentence in sentences]\n",
    "print('Average number of words in each line: {}'.format(np.average(word_count_sentence)))\n",
    "\n",
    "print()\n",
    "print('The sentences {} to {}:'.format(*view_sentence_range))\n",
    "print('\\n'.join(text.split('\\n')[view_sentence_range[0]:view_sentence_range[1]]))"
   ]
  },
  {
   "cell_type": "markdown",
   "metadata": {},
   "source": [
    "## Implement Preprocessing Functions\n",
    "The first thing to do to any dataset is preprocessing.  Implement the following preprocessing functions below:\n",
    "- Lookup Table\n",
    "- Tokenize Punctuation\n",
    "\n",
    "### Lookup Table\n",
    "To create a word embedding, you first need to transform the words to ids.  In this function, create two dictionaries:\n",
    "- Dictionary to go from the words to an id, we'll call `vocab_to_int`\n",
    "- Dictionary to go from the id to word, we'll call `int_to_vocab`\n",
    "\n",
    "Return these dictionaries in the following tuple `(vocab_to_int, int_to_vocab)`"
   ]
  },
  {
   "cell_type": "code",
   "execution_count": 4,
   "metadata": {},
   "outputs": [
    {
     "name": "stdout",
     "output_type": "stream",
     "text": [
      "Tests Passed\n"
     ]
    }
   ],
   "source": [
    "import numpy as np\n",
    "import problem_unittests as tests\n",
    "\n",
    "def create_lookup_tables(text):\n",
    "    \"\"\"\n",
    "    Create lookup tables for vocabulary\n",
    "    :param text: The text of tv scripts split into words\n",
    "    :return: A tuple of dicts (vocab_to_int, int_to_vocab)\n",
    "    \"\"\"\n",
    "    # TODO: Implement Function\n",
    "    vocab = set(text)\n",
    "    vocab_to_int = {word:ii for ii,word in enumerate(vocab)}\n",
    "    int_to_vocab = dict(enumerate(vocab))\n",
    "    return vocab_to_int, int_to_vocab\n",
    "\n",
    "\n",
    "\"\"\"\n",
    "DON'T MODIFY ANYTHING IN THIS CELL THAT IS BELOW THIS LINE\n",
    "\"\"\"\n",
    "tests.test_create_lookup_tables(create_lookup_tables)"
   ]
  },
  {
   "cell_type": "markdown",
   "metadata": {},
   "source": [
    "### Tokenize Punctuation\n",
    "We'll be splitting the script into a word array using spaces as delimiters.  However, punctuations like periods and exclamation marks make it hard for the neural network to distinguish between the word \"bye\" and \"bye!\".\n",
    "\n",
    "Implement the function `token_lookup` to return a dict that will be used to tokenize symbols like \"!\" into \"||Exclamation_Mark||\".  Create a dictionary for the following symbols where the symbol is the key and value is the token:\n",
    "- Period ( . )\n",
    "- Comma ( , )\n",
    "- Quotation Mark ( \" )\n",
    "- Semicolon ( ; )\n",
    "- Exclamation mark ( ! )\n",
    "- Question mark ( ? )\n",
    "- Left Parentheses ( ( )\n",
    "- Right Parentheses ( ) )\n",
    "- Dash ( -- )\n",
    "- Return ( \\n )\n",
    "\n",
    "This dictionary will be used to token the symbols and add the delimiter (space) around it.  This separates the symbols as it's own word, making it easier for the neural network to predict on the next word. Make sure you don't use a token that could be confused as a word. Instead of using the token \"dash\", try using something like \"||dash||\"."
   ]
  },
  {
   "cell_type": "code",
   "execution_count": 5,
   "metadata": {},
   "outputs": [
    {
     "name": "stdout",
     "output_type": "stream",
     "text": [
      "Tests Passed\n"
     ]
    }
   ],
   "source": [
    "def token_lookup():\n",
    "    \"\"\"\n",
    "    Generate a dict to turn punctuation into a token.\n",
    "    :return: Tokenize dictionary where the key is the punctuation and the value is the token\n",
    "    \"\"\"\n",
    "    # TODO: Implement Function\n",
    "    punc_to_token = {'.':'||Period||',\n",
    "                    ',':'||Comma||',\n",
    "                    '\"':'||Quotation_Mark||',\n",
    "                    ';':'||Semicolon||',\n",
    "                    '!':'||Exclamation_mark||',\n",
    "                    '?':'||Question_mark||',\n",
    "                    '(':'||Left_Parentheses||',\n",
    "                    ')':'||Right_Parentheses||',\n",
    "                    '--':'||Dash||',\n",
    "                    '\\n':'||Return||'}\n",
    "    return punc_to_token\n",
    "\n",
    "\"\"\"\n",
    "DON'T MODIFY ANYTHING IN THIS CELL THAT IS BELOW THIS LINE\n",
    "\"\"\"\n",
    "tests.test_tokenize(token_lookup)"
   ]
  },
  {
   "cell_type": "markdown",
   "metadata": {},
   "source": [
    "## Preprocess all the data and save it\n",
    "Running the code cell below will preprocess all the data and save it to file."
   ]
  },
  {
   "cell_type": "code",
   "execution_count": 6,
   "metadata": {},
   "outputs": [
    {
     "name": "stdout",
     "output_type": "stream",
     "text": [
      "Load Udacity dataset\n"
     ]
    }
   ],
   "source": [
    "\"\"\"\n",
    "DON'T MODIFY ANYTHING IN THIS CELL\n",
    "\"\"\"\n",
    "# Preprocess Training, Validation, and Testing Data\n",
    "helper.preprocess_and_save_data(data_dir, token_lookup, create_lookup_tables)"
   ]
  },
  {
   "cell_type": "markdown",
   "metadata": {},
   "source": [
    "# Check Point\n",
    "This is your first checkpoint. If you ever decide to come back to this notebook or have to restart the notebook, you can start from here. The preprocessed data has been saved to disk."
   ]
  },
  {
   "cell_type": "code",
   "execution_count": 3,
   "metadata": {},
   "outputs": [
    {
     "name": "stdout",
     "output_type": "stream",
     "text": [
      "There are   6780 unique words remain\n"
     ]
    }
   ],
   "source": [
    "\"\"\"\n",
    "DON'T MODIFY ANYTHING IN THIS CELL\n",
    "\"\"\"\n",
    "import helper\n",
    "import numpy as np\n",
    "import problem_unittests as tests\n",
    "\n",
    "int_text, vocab_to_int, int_to_vocab, token_dict = helper.load_preprocess()\n",
    "\n",
    "print('There are {:>6} unique words remain'.format(len(vocab_to_int)))"
   ]
  },
  {
   "cell_type": "markdown",
   "metadata": {},
   "source": [
    "## Build the Neural Network\n",
    "You'll build the components necessary to build a RNN by implementing the following functions below:\n",
    "- get_inputs\n",
    "- get_init_cell\n",
    "- get_embed\n",
    "- build_rnn\n",
    "- build_nn\n",
    "- get_batches\n",
    "\n",
    "### Check the Version of TensorFlow and Access to GPU"
   ]
  },
  {
   "cell_type": "code",
   "execution_count": 4,
   "metadata": {},
   "outputs": [
    {
     "name": "stdout",
     "output_type": "stream",
     "text": [
      "TensorFlow Version: 1.0.1\n",
      "Default GPU Device: /gpu:0\n"
     ]
    }
   ],
   "source": [
    "\"\"\"\n",
    "DON'T MODIFY ANYTHING IN THIS CELL\n",
    "\"\"\"\n",
    "from distutils.version import LooseVersion\n",
    "import warnings\n",
    "import tensorflow as tf\n",
    "\n",
    "# Check TensorFlow Version\n",
    "assert LooseVersion(tf.__version__) >= LooseVersion('1.0'), 'Please use TensorFlow version 1.0 or newer'\n",
    "print('TensorFlow Version: {}'.format(tf.__version__))\n",
    "\n",
    "# Check for a GPU\n",
    "if not tf.test.gpu_device_name():\n",
    "    warnings.warn('No GPU found. Please use a GPU to train your neural network.')\n",
    "else:\n",
    "    print('Default GPU Device: {}'.format(tf.test.gpu_device_name()))"
   ]
  },
  {
   "cell_type": "markdown",
   "metadata": {},
   "source": [
    "### Input\n",
    "Implement the `get_inputs()` function to create TF Placeholders for the Neural Network.  It should create the following placeholders:\n",
    "- Input text placeholder named \"input\" using the [TF Placeholder](https://www.tensorflow.org/api_docs/python/tf/placeholder) `name` parameter.\n",
    "- Targets placeholder\n",
    "- Learning Rate placeholder\n",
    "\n",
    "Return the placeholders in the following tuple `(Input, Targets, LearningRate)`"
   ]
  },
  {
   "cell_type": "code",
   "execution_count": 5,
   "metadata": {},
   "outputs": [
    {
     "name": "stdout",
     "output_type": "stream",
     "text": [
      "Tests Passed\n"
     ]
    }
   ],
   "source": [
    "def get_inputs():\n",
    "    \"\"\"\n",
    "    Create TF Placeholders for input, targets, and learning rate.\n",
    "    :return: Tuple (input, targets, learning rate)\n",
    "    \"\"\"\n",
    "    # TODO: Implement Function\n",
    "    input_ = tf.placeholder(tf.int32,[None,None],name='input')\n",
    "    target_ = tf.placeholder(tf.int32,[None,None],name='target')\n",
    "    learning_rate = tf.placeholder(tf.float32,name='learning_rate')\n",
    "    return input_,target_,learning_rate\n",
    "\n",
    "\n",
    "\"\"\"\n",
    "DON'T MODIFY ANYTHING IN THIS CELL THAT IS BELOW THIS LINE\n",
    "\"\"\"\n",
    "tests.test_get_inputs(get_inputs)"
   ]
  },
  {
   "cell_type": "markdown",
   "metadata": {},
   "source": [
    "### Build RNN Cell and Initialize\n",
    "Stack one or more [`BasicLSTMCells`](https://www.tensorflow.org/api_docs/python/tf/contrib/rnn/BasicLSTMCell) in a [`MultiRNNCell`](https://www.tensorflow.org/api_docs/python/tf/contrib/rnn/MultiRNNCell).\n",
    "- The Rnn size should be set using `rnn_size`\n",
    "- Initalize Cell State using the MultiRNNCell's [`zero_state()`](https://www.tensorflow.org/api_docs/python/tf/contrib/rnn/MultiRNNCell#zero_state) function\n",
    "    - Apply the name \"initial_state\" to the initial state using [`tf.identity()`](https://www.tensorflow.org/api_docs/python/tf/identity)\n",
    "\n",
    "Return the cell and initial state in the following tuple `(Cell, InitialState)`"
   ]
  },
  {
   "cell_type": "code",
   "execution_count": 6,
   "metadata": {},
   "outputs": [
    {
     "name": "stdout",
     "output_type": "stream",
     "text": [
      "Tests Passed\n"
     ]
    }
   ],
   "source": [
    "def get_init_cell(batch_size, rnn_size,num_layers):\n",
    "    \"\"\"\n",
    "    Create an RNN Cell and initialize it.\n",
    "    :param batch_size: Size of batches\n",
    "    :param rnn_size: Size of RNNs\n",
    "    :return: Tuple (cell, initialize state)\n",
    "    \"\"\"\n",
    "    # TODO: Implement Function\n",
    "    lstm = tf.contrib.rnn.BasicLSTMCell(rnn_size)\n",
    "#     drop = tf.contrib.rnn.DropoutWrapper(lstm,output_keep_prob=0.5)\n",
    "    cell = tf.contrib.rnn.MultiRNNCell([lstm for _ in range(num_layers)])\n",
    "    initial_state = cell.zero_state(batch_size, tf.float32)\n",
    "    initial_state = tf.identity(initial_state,name='initial_state')\n",
    "    return (cell, initial_state)\n",
    "\n",
    "\n",
    "\"\"\"\n",
    "DON'T MODIFY ANYTHING IN THIS CELL THAT IS BELOW THIS LINE\n",
    "\"\"\"\n",
    "tests.test_get_init_cell(get_init_cell)"
   ]
  },
  {
   "cell_type": "markdown",
   "metadata": {},
   "source": [
    "### Word Embedding\n",
    "Apply embedding to `input_data` using TensorFlow.  Return the embedded sequence."
   ]
  },
  {
   "cell_type": "code",
   "execution_count": 7,
   "metadata": {},
   "outputs": [
    {
     "name": "stdout",
     "output_type": "stream",
     "text": [
      "Tests Passed\n"
     ]
    }
   ],
   "source": [
    "def get_embed(input_data, vocab_size, embed_dim):\n",
    "    \"\"\"\n",
    "    Create embedding for <input_data>.\n",
    "    :param input_data: TF placeholder for text input.\n",
    "    :param vocab_size: Number of words in vocabulary.\n",
    "    :param embed_dim: Number of embedding dimensions\n",
    "    :return: Embedded input.\n",
    "    \"\"\"\n",
    "    # TODO: Implement Function\n",
    "    embedding = tf.Variable(tf.random_uniform((vocab_size,embed_dim),-1,1))\n",
    "    embed = tf.nn.embedding_lookup(embedding,input_data)\n",
    "                        \n",
    "    return embed\n",
    "\n",
    "\n",
    "\"\"\"\n",
    "DON'T MODIFY ANYTHING IN THIS CELL THAT IS BELOW THIS LINE\n",
    "\"\"\"\n",
    "tests.test_get_embed(get_embed)"
   ]
  },
  {
   "cell_type": "markdown",
   "metadata": {},
   "source": [
    "### Build RNN\n",
    "You created a RNN Cell in the `get_init_cell()` function.  Time to use the cell to create a RNN.\n",
    "- Build the RNN using the [`tf.nn.dynamic_rnn()`](https://www.tensorflow.org/api_docs/python/tf/nn/dynamic_rnn)\n",
    " - Apply the name \"final_state\" to the final state using [`tf.identity()`](https://www.tensorflow.org/api_docs/python/tf/identity)\n",
    "\n",
    "Return the outputs and final_state state in the following tuple `(Outputs, FinalState)` "
   ]
  },
  {
   "cell_type": "code",
   "execution_count": 8,
   "metadata": {
    "scrolled": true
   },
   "outputs": [
    {
     "name": "stdout",
     "output_type": "stream",
     "text": [
      "Tests Passed\n"
     ]
    }
   ],
   "source": [
    "def build_rnn(cell, inputs):\n",
    "    \"\"\"\n",
    "    Create a RNN using a RNN Cell\n",
    "    :param cell: RNN Cell\n",
    "    :param inputs: Input text data\n",
    "    :return: Tuple (Outputs, Final State)\n",
    "    \"\"\"\n",
    "    # TODO: Implement Function\n",
    "#     outputs,final_state = tf.nn.dynamic_rnn(cell,inputs,initial_state=cell.zero_state(tf.placeholder(tf.int32,[],name='initial_state'), tf.float32))\n",
    "    outputs,final_state = tf.nn.dynamic_rnn(cell,inputs,dtype=tf.float32)\n",
    "    final_state = tf.identity(final_state,name='final_state')\n",
    "    return (outputs,final_state)\n",
    "\n",
    "\n",
    "\"\"\"\n",
    "DON'T MODIFY ANYTHING IN THIS CELL THAT IS BELOW THIS LINE\n",
    "\"\"\"\n",
    "tests.test_build_rnn(build_rnn)"
   ]
  },
  {
   "cell_type": "markdown",
   "metadata": {},
   "source": [
    "### Build the Neural Network\n",
    "Apply the functions you implemented above to:\n",
    "- Apply embedding to `input_data` using your `get_embed(input_data, vocab_size, embed_dim)` function.\n",
    "- Build RNN using `cell` and your `build_rnn(cell, inputs)` function.\n",
    "- Apply a fully connected layer with a linear activation and `vocab_size` as the number of outputs.\n",
    "\n",
    "Return the logits and final state in the following tuple (Logits, FinalState) "
   ]
  },
  {
   "cell_type": "code",
   "execution_count": 9,
   "metadata": {
    "scrolled": true
   },
   "outputs": [
    {
     "name": "stdout",
     "output_type": "stream",
     "text": [
      "Tests Passed\n"
     ]
    }
   ],
   "source": [
    "def build_nn(cell,rnn_size, input_data, vocab_size, embed_dim):\n",
    "    \"\"\"\n",
    "    Build part of the neural network\n",
    "    :param cell: RNN cell\n",
    "    :param rnn_size: Size of rnns\n",
    "    :param input_data: Input data\n",
    "    :param vocab_size: Vocabulary size\n",
    "    :param embed_dim: Number of embedding dimensions\n",
    "    :return: Tuple (Logits, FinalState)\n",
    "    \"\"\"\n",
    "    # TODO: Implement Function\n",
    "    inputs = get_embed(input_data,vocab_size,embed_dim)\n",
    "    rnn,final_state = build_rnn(cell,inputs)\n",
    "    logits = tf.contrib.layers.fully_connected(rnn,vocab_size)\n",
    "    return logits,final_state\n",
    "\n",
    "\n",
    "\"\"\"\n",
    "DON'T MODIFY ANYTHING IN THIS CELL THAT IS BELOW THIS LINE\n",
    "\"\"\"\n",
    "tests.test_build_nn(build_nn)"
   ]
  },
  {
   "cell_type": "markdown",
   "metadata": {},
   "source": [
    "### Batches\n",
    "Implement `get_batches` to create batches of input and targets using `int_text`.  The batches should be a Numpy array with the shape `(number of batches, 2, batch size, sequence length)`. Each batch contains two elements:\n",
    "- The first element is a single batch of **input** with the shape `[batch size, sequence length]`\n",
    "- The second element is a single batch of **targets** with the shape `[batch size, sequence length]`\n",
    "\n",
    "If you can't fill the last batch with enough data, drop the last batch.\n",
    "\n",
    "For exmple, `get_batches([1, 2, 3, 4, 5, 6, 7, 8, 9, 10, 11, 12, 13, 14, 15], 2, 3)` would return a Numpy array of the following:\n",
    "```\n",
    "[\n",
    "  # First Batch\n",
    "  [\n",
    "    # Batch of Input\n",
    "    [[ 1  2  3], [ 7  8  9]],\n",
    "    # Batch of targets\n",
    "    [[ 2  3  4], [ 8  9 10]]\n",
    "  ],\n",
    " \n",
    "  # Second Batch\n",
    "  [\n",
    "    # Batch of Input\n",
    "    [[ 4  5  6], [10 11 12]],\n",
    "    # Batch of targets\n",
    "    [[ 5  6  7], [11 12 13]]\n",
    "  ]\n",
    "]\n",
    "```"
   ]
  },
  {
   "cell_type": "code",
   "execution_count": 10,
   "metadata": {},
   "outputs": [
    {
     "data": {
      "text/plain": [
       "\"\\nDON'T MODIFY ANYTHING IN THIS CELL THAT IS BELOW THIS LINE\\n\""
      ]
     },
     "execution_count": 10,
     "metadata": {},
     "output_type": "execute_result"
    }
   ],
   "source": [
    "def get_batches(int_text, batch_size, seq_length):\n",
    "    \"\"\"\n",
    "    Return batches of input and target\n",
    "    :param int_text: Text with the words replaced by their ids\n",
    "    :param batch_size: The size of batch\n",
    "    :param seq_length: The length of sequence\n",
    "    :return: Batches as a Numpy array\n",
    "    \"\"\"\n",
    "    # TODO: Implement Function\n",
    "    num_batches = len(int_text)//(batch_size*seq_length)\n",
    "    inputs = np.array(int_text[:num_batches*batch_size*seq_length+batch_size]).reshape(batch_size,-1)\n",
    "    x,y = inputs[:,:-1],inputs[:,1:]\n",
    "#     batches = np.zeros((num_batches,2,batch_size,seq_length),dtype=int)\n",
    "    for n in range(0,num_batches):\n",
    "#         batches[n,0] = x[:,n:n+seq_length]\n",
    "#         batches[n,1] = y[:,n:n+seq_length]\n",
    "#     print(batches[0,:,:1,:])\n",
    "        yield x[:,n:n+seq_length],y[:,n:n+seq_length]\n",
    "\n",
    "\n",
    "\"\"\"\n",
    "DON'T MODIFY ANYTHING IN THIS CELL THAT IS BELOW THIS LINE\n",
    "\"\"\"\n",
    "# tests.test_get_batches(get_batches)\n",
    "# I use a generator here so the test can't work"
   ]
  },
  {
   "cell_type": "markdown",
   "metadata": {},
   "source": [
    "## Neural Network Training\n",
    "### Hyperparameters\n",
    "Tune the following parameters:\n",
    "\n",
    "- Set `num_epochs` to the number of epochs.\n",
    "- Set `batch_size` to the batch size.\n",
    "- Set `rnn_size` to the size of the RNNs.\n",
    "- Set `embed_dim` to the size of the embedding.\n",
    "- Set `seq_length` to the length of sequence.\n",
    "- Set `learning_rate` to the learning rate.\n",
    "- Set `show_every_n_batches` to the number of batches the neural network should print progress."
   ]
  },
  {
   "cell_type": "code",
   "execution_count": 14,
   "metadata": {
    "collapsed": true
   },
   "outputs": [],
   "source": [
    "# Number of Epochs\n",
    "num_epochs = 500\n",
    "# Batch Size\n",
    "batch_size = 512\n",
    "# RNN Size\n",
    "rnn_size = 256\n",
    "# Number of RNN Layers\n",
    "num_layers = 1\n",
    "# Embedding Dimension Size\n",
    "embed_dim = 300\n",
    "# Sequence Length\n",
    "seq_length = 15\n",
    "# Learning Rate\n",
    "learning_rate = 0.001\n",
    "# Show stats for every n number of batches\n",
    "show_every_n_batches = 5\n",
    "\n",
    "\n",
    "\"\"\"\n",
    "DON'T MODIFY ANYTHING IN THIS CELL THAT IS BELOW THIS LINE\n",
    "\"\"\"\n",
    "save_dir = './save'"
   ]
  },
  {
   "cell_type": "markdown",
   "metadata": {},
   "source": [
    "### Build the Graph\n",
    "Build the graph using the neural network you implemented."
   ]
  },
  {
   "cell_type": "code",
   "execution_count": 15,
   "metadata": {
    "collapsed": true
   },
   "outputs": [],
   "source": [
    "\"\"\"\n",
    "DON'T MODIFY ANYTHING IN THIS CELL\n",
    "\"\"\"\n",
    "from tensorflow.contrib import seq2seq\n",
    "\n",
    "train_graph = tf.Graph()\n",
    "with train_graph.as_default():\n",
    "    vocab_size = len(int_to_vocab)\n",
    "    input_text, targets, lr = get_inputs()\n",
    "    input_data_shape = tf.shape(input_text)\n",
    "    cell, initial_state = get_init_cell(input_data_shape[0], rnn_size,num_layers)\n",
    "    logits, final_state = build_nn(cell, rnn_size, input_text, vocab_size, embed_dim)\n",
    "\n",
    "    # Probabilities for generating words\n",
    "    probs = tf.nn.softmax(logits, name='probs')\n",
    "\n",
    "    # Loss function\n",
    "    cost = seq2seq.sequence_loss(\n",
    "        logits,\n",
    "        targets,\n",
    "        tf.ones([input_data_shape[0], input_data_shape[1]]))\n",
    "\n",
    "    # Optimizer\n",
    "    optimizer = tf.train.AdamOptimizer(lr)\n",
    "\n",
    "    # Gradient Clipping\n",
    "    gradients = optimizer.compute_gradients(cost)\n",
    "    capped_gradients = [(tf.clip_by_value(grad, -1., 1.), var) for grad, var in gradients if grad is not None]\n",
    "    train_op = optimizer.apply_gradients(capped_gradients)\n",
    "    "
   ]
  },
  {
   "cell_type": "markdown",
   "metadata": {},
   "source": [
    "## Train\n",
    "Train the neural network on the preprocessed data.  If you have a hard time getting a good loss, check the [forms](https://discussions.udacity.com/) to see if anyone is having the same problem."
   ]
  },
  {
   "cell_type": "code",
   "execution_count": 16,
   "metadata": {
    "scrolled": false
   },
   "outputs": [
    {
     "name": "stdout",
     "output_type": "stream",
     "text": [
      "Epoch   0/500  Batch    0/8   train_loss = 8.822\n",
      "Epoch   0/500  Batch    5/8   train_loss = 8.658\n",
      "Epoch   1/500  Batch    2/8   train_loss = 8.234\n",
      "Epoch   2/500  Batch    4/8   train_loss = 6.794\n",
      "Epoch   3/500  Batch    1/8   train_loss = 6.390\n",
      "Epoch   3/500  Batch    6/8   train_loss = 6.123\n",
      "Epoch   4/500  Batch    3/8   train_loss = 5.989\n",
      "Epoch   5/500  Batch    0/8   train_loss = 5.959\n",
      "Epoch   5/500  Batch    5/8   train_loss = 5.925\n",
      "Epoch   6/500  Batch    2/8   train_loss = 5.850\n",
      "Epoch   7/500  Batch    4/8   train_loss = 5.804\n",
      "Epoch   8/500  Batch    1/8   train_loss = 5.740\n",
      "Epoch   8/500  Batch    6/8   train_loss = 5.775\n",
      "Epoch   9/500  Batch    3/8   train_loss = 5.672\n",
      "Epoch  10/500  Batch    0/8   train_loss = 5.649\n",
      "Epoch  10/500  Batch    5/8   train_loss = 5.654\n",
      "Epoch  11/500  Batch    2/8   train_loss = 5.569\n",
      "Epoch  12/500  Batch    4/8   train_loss = 5.529\n",
      "Epoch  13/500  Batch    1/8   train_loss = 5.470\n",
      "Epoch  13/500  Batch    6/8   train_loss = 5.514\n",
      "Epoch  14/500  Batch    3/8   train_loss = 5.400\n",
      "Epoch  15/500  Batch    0/8   train_loss = 5.384\n",
      "Epoch  15/500  Batch    5/8   train_loss = 5.393\n",
      "Epoch  16/500  Batch    2/8   train_loss = 5.293\n",
      "Epoch  17/500  Batch    4/8   train_loss = 5.248\n",
      "Epoch  18/500  Batch    1/8   train_loss = 5.181\n",
      "Epoch  18/500  Batch    6/8   train_loss = 5.245\n",
      "Epoch  19/500  Batch    3/8   train_loss = 5.106\n",
      "Epoch  20/500  Batch    0/8   train_loss = 5.088\n",
      "Epoch  20/500  Batch    5/8   train_loss = 5.100\n",
      "Epoch  21/500  Batch    2/8   train_loss = 4.985\n",
      "Epoch  22/500  Batch    4/8   train_loss = 4.929\n",
      "Epoch  23/500  Batch    1/8   train_loss = 4.855\n",
      "Epoch  23/500  Batch    6/8   train_loss = 4.937\n",
      "Epoch  24/500  Batch    3/8   train_loss = 4.766\n",
      "Epoch  25/500  Batch    0/8   train_loss = 4.751\n",
      "Epoch  25/500  Batch    5/8   train_loss = 4.760\n",
      "Epoch  26/500  Batch    2/8   train_loss = 4.622\n",
      "Epoch  27/500  Batch    4/8   train_loss = 4.565\n",
      "Epoch  28/500  Batch    1/8   train_loss = 4.484\n",
      "Epoch  28/500  Batch    6/8   train_loss = 4.597\n",
      "Epoch  29/500  Batch    3/8   train_loss = 4.390\n",
      "Epoch  30/500  Batch    0/8   train_loss = 4.387\n",
      "Epoch  30/500  Batch    5/8   train_loss = 4.400\n",
      "Epoch  31/500  Batch    2/8   train_loss = 4.242\n",
      "Epoch  32/500  Batch    4/8   train_loss = 4.196\n",
      "Epoch  33/500  Batch    1/8   train_loss = 4.111\n",
      "Epoch  33/500  Batch    6/8   train_loss = 4.255\n",
      "Epoch  34/500  Batch    3/8   train_loss = 4.016\n",
      "Epoch  35/500  Batch    0/8   train_loss = 4.029\n",
      "Epoch  35/500  Batch    5/8   train_loss = 4.046\n",
      "Epoch  36/500  Batch    2/8   train_loss = 3.869\n",
      "Epoch  37/500  Batch    4/8   train_loss = 3.837\n",
      "Epoch  38/500  Batch    1/8   train_loss = 3.751\n",
      "Epoch  38/500  Batch    6/8   train_loss = 3.931\n",
      "Epoch  39/500  Batch    3/8   train_loss = 3.659\n",
      "Epoch  40/500  Batch    0/8   train_loss = 3.695\n",
      "Epoch  40/500  Batch    5/8   train_loss = 3.714\n",
      "Epoch  41/500  Batch    2/8   train_loss = 3.521\n",
      "Epoch  42/500  Batch    4/8   train_loss = 3.505\n",
      "Epoch  43/500  Batch    1/8   train_loss = 3.423\n",
      "Epoch  43/500  Batch    6/8   train_loss = 3.632\n",
      "Epoch  44/500  Batch    3/8   train_loss = 3.333\n",
      "Epoch  45/500  Batch    0/8   train_loss = 3.391\n",
      "Epoch  45/500  Batch    5/8   train_loss = 3.414\n",
      "Epoch  46/500  Batch    2/8   train_loss = 3.208\n",
      "Epoch  47/500  Batch    4/8   train_loss = 3.208\n",
      "Epoch  48/500  Batch    1/8   train_loss = 3.129\n",
      "Epoch  48/500  Batch    6/8   train_loss = 3.367\n",
      "Epoch  49/500  Batch    3/8   train_loss = 3.047\n",
      "Epoch  50/500  Batch    0/8   train_loss = 3.126\n",
      "Epoch  50/500  Batch    5/8   train_loss = 3.153\n",
      "Epoch  51/500  Batch    2/8   train_loss = 2.937\n",
      "Epoch  52/500  Batch    4/8   train_loss = 2.951\n",
      "Epoch  53/500  Batch    1/8   train_loss = 2.874\n",
      "Epoch  53/500  Batch    6/8   train_loss = 3.138\n",
      "Epoch  54/500  Batch    3/8   train_loss = 2.799\n",
      "Epoch  55/500  Batch    0/8   train_loss = 2.893\n",
      "Epoch  55/500  Batch    5/8   train_loss = 2.925\n",
      "Epoch  56/500  Batch    2/8   train_loss = 2.701\n",
      "Epoch  57/500  Batch    4/8   train_loss = 2.726\n",
      "Epoch  58/500  Batch    1/8   train_loss = 2.653\n",
      "Epoch  58/500  Batch    6/8   train_loss = 2.939\n",
      "Epoch  59/500  Batch    3/8   train_loss = 2.585\n",
      "Epoch  60/500  Batch    0/8   train_loss = 2.693\n",
      "Epoch  60/500  Batch    5/8   train_loss = 2.727\n",
      "Epoch  61/500  Batch    2/8   train_loss = 2.497\n",
      "Epoch  62/500  Batch    4/8   train_loss = 2.527\n",
      "Epoch  63/500  Batch    1/8   train_loss = 2.455\n",
      "Epoch  63/500  Batch    6/8   train_loss = 2.759\n",
      "Epoch  64/500  Batch    3/8   train_loss = 2.391\n",
      "Epoch  65/500  Batch    0/8   train_loss = 2.506\n",
      "Epoch  65/500  Batch    5/8   train_loss = 2.544\n",
      "Epoch  66/500  Batch    2/8   train_loss = 2.308\n",
      "Epoch  67/500  Batch    4/8   train_loss = 2.350\n",
      "Epoch  68/500  Batch    1/8   train_loss = 2.279\n",
      "Epoch  68/500  Batch    6/8   train_loss = 2.598\n",
      "Epoch  69/500  Batch    3/8   train_loss = 2.218\n",
      "Epoch  70/500  Batch    0/8   train_loss = 2.334\n",
      "Epoch  70/500  Batch    5/8   train_loss = 2.382\n",
      "Epoch  71/500  Batch    2/8   train_loss = 2.143\n",
      "Epoch  72/500  Batch    4/8   train_loss = 2.192\n",
      "Epoch  73/500  Batch    1/8   train_loss = 2.118\n",
      "Epoch  73/500  Batch    6/8   train_loss = 2.453\n",
      "Epoch  74/500  Batch    3/8   train_loss = 2.068\n",
      "Epoch  75/500  Batch    0/8   train_loss = 2.184\n",
      "Epoch  75/500  Batch    5/8   train_loss = 2.235\n",
      "Epoch  76/500  Batch    2/8   train_loss = 1.993\n",
      "Epoch  77/500  Batch    4/8   train_loss = 2.049\n",
      "Epoch  78/500  Batch    1/8   train_loss = 1.976\n",
      "Epoch  78/500  Batch    6/8   train_loss = 2.317\n",
      "Epoch  79/500  Batch    3/8   train_loss = 1.929\n",
      "Epoch  80/500  Batch    0/8   train_loss = 2.042\n",
      "Epoch  80/500  Batch    5/8   train_loss = 2.105\n",
      "Epoch  81/500  Batch    2/8   train_loss = 1.863\n",
      "Epoch  82/500  Batch    4/8   train_loss = 1.921\n",
      "Epoch  83/500  Batch    1/8   train_loss = 1.846\n",
      "Epoch  83/500  Batch    6/8   train_loss = 2.194\n",
      "Epoch  84/500  Batch    3/8   train_loss = 1.808\n",
      "Epoch  85/500  Batch    0/8   train_loss = 1.917\n",
      "Epoch  85/500  Batch    5/8   train_loss = 1.984\n",
      "Epoch  86/500  Batch    2/8   train_loss = 1.741\n",
      "Epoch  87/500  Batch    4/8   train_loss = 1.804\n",
      "Epoch  88/500  Batch    1/8   train_loss = 1.729\n",
      "Epoch  88/500  Batch    6/8   train_loss = 2.085\n",
      "Epoch  89/500  Batch    3/8   train_loss = 1.702\n",
      "Epoch  90/500  Batch    0/8   train_loss = 1.804\n",
      "Epoch  90/500  Batch    5/8   train_loss = 1.881\n",
      "Epoch  91/500  Batch    2/8   train_loss = 1.639\n",
      "Epoch  92/500  Batch    4/8   train_loss = 1.704\n",
      "Epoch  93/500  Batch    1/8   train_loss = 1.627\n",
      "Epoch  93/500  Batch    6/8   train_loss = 1.985\n",
      "Epoch  94/500  Batch    3/8   train_loss = 1.608\n",
      "Epoch  95/500  Batch    0/8   train_loss = 1.703\n",
      "Epoch  95/500  Batch    5/8   train_loss = 1.786\n",
      "Epoch  96/500  Batch    2/8   train_loss = 1.547\n",
      "Epoch  97/500  Batch    4/8   train_loss = 1.622\n",
      "Epoch  98/500  Batch    1/8   train_loss = 1.542\n",
      "Epoch  98/500  Batch    6/8   train_loss = 1.897\n",
      "Epoch  99/500  Batch    3/8   train_loss = 1.527\n",
      "Epoch 100/500  Batch    0/8   train_loss = 1.609\n",
      "Epoch 100/500  Batch    5/8   train_loss = 1.706\n",
      "Epoch 101/500  Batch    2/8   train_loss = 1.470\n",
      "Epoch 102/500  Batch    4/8   train_loss = 1.545\n",
      "Epoch 103/500  Batch    1/8   train_loss = 1.460\n",
      "Epoch 103/500  Batch    6/8   train_loss = 1.820\n",
      "Epoch 104/500  Batch    3/8   train_loss = 1.456\n",
      "Epoch 105/500  Batch    0/8   train_loss = 1.530\n",
      "Epoch 105/500  Batch    5/8   train_loss = 1.636\n",
      "Epoch 106/500  Batch    2/8   train_loss = 1.400\n",
      "Epoch 107/500  Batch    4/8   train_loss = 1.476\n",
      "Epoch 108/500  Batch    1/8   train_loss = 1.388\n",
      "Epoch 108/500  Batch    6/8   train_loss = 1.745\n",
      "Epoch 109/500  Batch    3/8   train_loss = 1.392\n",
      "Epoch 110/500  Batch    0/8   train_loss = 1.457\n",
      "Epoch 110/500  Batch    5/8   train_loss = 1.572\n",
      "Epoch 111/500  Batch    2/8   train_loss = 1.340\n",
      "Epoch 112/500  Batch    4/8   train_loss = 1.421\n",
      "Epoch 113/500  Batch    1/8   train_loss = 1.330\n",
      "Epoch 113/500  Batch    6/8   train_loss = 1.685\n",
      "Epoch 114/500  Batch    3/8   train_loss = 1.340\n",
      "Epoch 115/500  Batch    0/8   train_loss = 1.393\n",
      "Epoch 115/500  Batch    5/8   train_loss = 1.518\n",
      "Epoch 116/500  Batch    2/8   train_loss = 1.287\n",
      "Epoch 117/500  Batch    4/8   train_loss = 1.373\n",
      "Epoch 118/500  Batch    1/8   train_loss = 1.280\n",
      "Epoch 118/500  Batch    6/8   train_loss = 1.632\n",
      "Epoch 119/500  Batch    3/8   train_loss = 1.296\n"
     ]
    },
    {
     "name": "stdout",
     "output_type": "stream",
     "text": [
      "Epoch 120/500  Batch    0/8   train_loss = 1.336\n",
      "Epoch 120/500  Batch    5/8   train_loss = 1.471\n",
      "Epoch 121/500  Batch    2/8   train_loss = 1.242\n",
      "Epoch 122/500  Batch    4/8   train_loss = 1.331\n",
      "Epoch 123/500  Batch    1/8   train_loss = 1.234\n",
      "Epoch 123/500  Batch    6/8   train_loss = 1.584\n",
      "Epoch 124/500  Batch    3/8   train_loss = 1.258\n",
      "Epoch 125/500  Batch    0/8   train_loss = 1.288\n",
      "Epoch 125/500  Batch    5/8   train_loss = 1.432\n",
      "Epoch 126/500  Batch    2/8   train_loss = 1.204\n",
      "Epoch 127/500  Batch    4/8   train_loss = 1.294\n",
      "Epoch 128/500  Batch    1/8   train_loss = 1.194\n",
      "Epoch 128/500  Batch    6/8   train_loss = 1.541\n",
      "Epoch 129/500  Batch    3/8   train_loss = 1.224\n",
      "Epoch 130/500  Batch    0/8   train_loss = 1.242\n",
      "Epoch 130/500  Batch    5/8   train_loss = 1.397\n",
      "Epoch 131/500  Batch    2/8   train_loss = 1.171\n",
      "Epoch 132/500  Batch    4/8   train_loss = 1.265\n",
      "Epoch 133/500  Batch    1/8   train_loss = 1.161\n",
      "Epoch 133/500  Batch    6/8   train_loss = 1.504\n",
      "Epoch 134/500  Batch    3/8   train_loss = 1.197\n",
      "Epoch 135/500  Batch    0/8   train_loss = 1.204\n",
      "Epoch 135/500  Batch    5/8   train_loss = 1.368\n",
      "Epoch 136/500  Batch    2/8   train_loss = 1.146\n",
      "Epoch 137/500  Batch    4/8   train_loss = 1.239\n",
      "Epoch 138/500  Batch    1/8   train_loss = 1.132\n",
      "Epoch 138/500  Batch    6/8   train_loss = 1.471\n",
      "Epoch 139/500  Batch    3/8   train_loss = 1.172\n",
      "Epoch 140/500  Batch    0/8   train_loss = 1.170\n",
      "Epoch 140/500  Batch    5/8   train_loss = 1.342\n",
      "Epoch 141/500  Batch    2/8   train_loss = 1.122\n",
      "Epoch 142/500  Batch    4/8   train_loss = 1.216\n",
      "Epoch 143/500  Batch    1/8   train_loss = 1.109\n",
      "Epoch 143/500  Batch    6/8   train_loss = 1.445\n",
      "Epoch 144/500  Batch    3/8   train_loss = 1.154\n",
      "Epoch 145/500  Batch    0/8   train_loss = 1.144\n",
      "Epoch 145/500  Batch    5/8   train_loss = 1.321\n",
      "Epoch 146/500  Batch    2/8   train_loss = 1.103\n",
      "Epoch 147/500  Batch    4/8   train_loss = 1.198\n",
      "Epoch 148/500  Batch    1/8   train_loss = 1.087\n",
      "Epoch 148/500  Batch    6/8   train_loss = 1.418\n",
      "Epoch 149/500  Batch    3/8   train_loss = 1.136\n",
      "Epoch 150/500  Batch    0/8   train_loss = 1.117\n",
      "Epoch 150/500  Batch    5/8   train_loss = 1.303\n",
      "Epoch 151/500  Batch    2/8   train_loss = 1.086\n",
      "Epoch 152/500  Batch    4/8   train_loss = 1.183\n",
      "Epoch 153/500  Batch    1/8   train_loss = 1.071\n",
      "Epoch 153/500  Batch    6/8   train_loss = 1.399\n",
      "Epoch 154/500  Batch    3/8   train_loss = 1.121\n",
      "Epoch 155/500  Batch    0/8   train_loss = 1.094\n",
      "Epoch 155/500  Batch    5/8   train_loss = 1.286\n",
      "Epoch 156/500  Batch    2/8   train_loss = 1.071\n",
      "Epoch 157/500  Batch    4/8   train_loss = 1.168\n",
      "Epoch 158/500  Batch    1/8   train_loss = 1.054\n",
      "Epoch 158/500  Batch    6/8   train_loss = 1.381\n",
      "Epoch 159/500  Batch    3/8   train_loss = 1.109\n",
      "Epoch 160/500  Batch    0/8   train_loss = 1.074\n",
      "Epoch 160/500  Batch    5/8   train_loss = 1.272\n",
      "Epoch 161/500  Batch    2/8   train_loss = 1.058\n",
      "Epoch 162/500  Batch    4/8   train_loss = 1.156\n",
      "Epoch 163/500  Batch    1/8   train_loss = 1.041\n",
      "Epoch 163/500  Batch    6/8   train_loss = 1.365\n",
      "Epoch 164/500  Batch    3/8   train_loss = 1.099\n",
      "Epoch 165/500  Batch    0/8   train_loss = 1.059\n",
      "Epoch 165/500  Batch    5/8   train_loss = 1.260\n",
      "Epoch 166/500  Batch    2/8   train_loss = 1.047\n",
      "Epoch 167/500  Batch    4/8   train_loss = 1.146\n",
      "Epoch 168/500  Batch    1/8   train_loss = 1.029\n",
      "Epoch 168/500  Batch    6/8   train_loss = 1.351\n",
      "Epoch 169/500  Batch    3/8   train_loss = 1.090\n",
      "Epoch 170/500  Batch    0/8   train_loss = 1.044\n",
      "Epoch 170/500  Batch    5/8   train_loss = 1.250\n",
      "Epoch 171/500  Batch    2/8   train_loss = 1.038\n",
      "Epoch 172/500  Batch    4/8   train_loss = 1.138\n",
      "Epoch 173/500  Batch    1/8   train_loss = 1.019\n",
      "Epoch 173/500  Batch    6/8   train_loss = 1.338\n",
      "Epoch 174/500  Batch    3/8   train_loss = 1.081\n",
      "Epoch 175/500  Batch    0/8   train_loss = 1.031\n",
      "Epoch 175/500  Batch    5/8   train_loss = 1.240\n",
      "Epoch 176/500  Batch    2/8   train_loss = 1.030\n",
      "Epoch 177/500  Batch    4/8   train_loss = 1.130\n",
      "Epoch 178/500  Batch    1/8   train_loss = 1.010\n",
      "Epoch 178/500  Batch    6/8   train_loss = 1.327\n",
      "Epoch 179/500  Batch    3/8   train_loss = 1.074\n",
      "Epoch 180/500  Batch    0/8   train_loss = 1.020\n",
      "Epoch 180/500  Batch    5/8   train_loss = 1.233\n",
      "Epoch 181/500  Batch    2/8   train_loss = 1.023\n",
      "Epoch 182/500  Batch    4/8   train_loss = 1.124\n",
      "Epoch 183/500  Batch    1/8   train_loss = 1.002\n",
      "Epoch 183/500  Batch    6/8   train_loss = 1.316\n",
      "Epoch 184/500  Batch    3/8   train_loss = 1.068\n",
      "Epoch 185/500  Batch    0/8   train_loss = 1.010\n",
      "Epoch 185/500  Batch    5/8   train_loss = 1.226\n",
      "Epoch 186/500  Batch    2/8   train_loss = 1.016\n",
      "Epoch 187/500  Batch    4/8   train_loss = 1.117\n",
      "Epoch 188/500  Batch    1/8   train_loss = 0.996\n",
      "Epoch 188/500  Batch    6/8   train_loss = 1.308\n",
      "Epoch 189/500  Batch    3/8   train_loss = 1.063\n",
      "Epoch 190/500  Batch    0/8   train_loss = 1.002\n",
      "Epoch 190/500  Batch    5/8   train_loss = 1.219\n",
      "Epoch 191/500  Batch    2/8   train_loss = 1.011\n",
      "Epoch 192/500  Batch    4/8   train_loss = 1.112\n",
      "Epoch 193/500  Batch    1/8   train_loss = 0.990\n",
      "Epoch 193/500  Batch    6/8   train_loss = 1.300\n",
      "Epoch 194/500  Batch    3/8   train_loss = 1.058\n",
      "Epoch 195/500  Batch    0/8   train_loss = 0.993\n",
      "Epoch 195/500  Batch    5/8   train_loss = 1.214\n",
      "Epoch 196/500  Batch    2/8   train_loss = 1.006\n",
      "Epoch 197/500  Batch    4/8   train_loss = 1.107\n",
      "Epoch 198/500  Batch    1/8   train_loss = 0.984\n",
      "Epoch 198/500  Batch    6/8   train_loss = 1.293\n",
      "Epoch 199/500  Batch    3/8   train_loss = 1.054\n",
      "Epoch 200/500  Batch    0/8   train_loss = 0.986\n",
      "Epoch 200/500  Batch    5/8   train_loss = 1.209\n",
      "Epoch 201/500  Batch    2/8   train_loss = 1.001\n",
      "Epoch 202/500  Batch    4/8   train_loss = 1.103\n",
      "Epoch 203/500  Batch    1/8   train_loss = 0.980\n",
      "Epoch 203/500  Batch    6/8   train_loss = 1.287\n",
      "Epoch 204/500  Batch    3/8   train_loss = 1.050\n",
      "Epoch 205/500  Batch    0/8   train_loss = 0.980\n",
      "Epoch 205/500  Batch    5/8   train_loss = 1.204\n",
      "Epoch 206/500  Batch    2/8   train_loss = 0.997\n",
      "Epoch 207/500  Batch    4/8   train_loss = 1.099\n",
      "Epoch 208/500  Batch    1/8   train_loss = 0.976\n",
      "Epoch 208/500  Batch    6/8   train_loss = 1.282\n",
      "Epoch 209/500  Batch    3/8   train_loss = 1.047\n",
      "Epoch 210/500  Batch    0/8   train_loss = 0.975\n",
      "Epoch 210/500  Batch    5/8   train_loss = 1.200\n",
      "Epoch 211/500  Batch    2/8   train_loss = 0.994\n",
      "Epoch 212/500  Batch    4/8   train_loss = 1.096\n",
      "Epoch 213/500  Batch    1/8   train_loss = 0.972\n",
      "Epoch 213/500  Batch    6/8   train_loss = 1.277\n",
      "Epoch 214/500  Batch    3/8   train_loss = 1.044\n",
      "Epoch 215/500  Batch    0/8   train_loss = 0.970\n",
      "Epoch 215/500  Batch    5/8   train_loss = 1.197\n",
      "Epoch 216/500  Batch    2/8   train_loss = 0.991\n",
      "Epoch 217/500  Batch    4/8   train_loss = 1.093\n",
      "Epoch 218/500  Batch    1/8   train_loss = 0.969\n",
      "Epoch 218/500  Batch    6/8   train_loss = 1.272\n",
      "Epoch 219/500  Batch    3/8   train_loss = 1.041\n",
      "Epoch 220/500  Batch    0/8   train_loss = 0.966\n",
      "Epoch 220/500  Batch    5/8   train_loss = 1.193\n",
      "Epoch 221/500  Batch    2/8   train_loss = 0.988\n",
      "Epoch 222/500  Batch    4/8   train_loss = 1.091\n",
      "Epoch 223/500  Batch    1/8   train_loss = 0.966\n",
      "Epoch 223/500  Batch    6/8   train_loss = 1.268\n",
      "Epoch 224/500  Batch    3/8   train_loss = 1.039\n",
      "Epoch 225/500  Batch    0/8   train_loss = 0.962\n",
      "Epoch 225/500  Batch    5/8   train_loss = 1.191\n",
      "Epoch 226/500  Batch    2/8   train_loss = 0.986\n",
      "Epoch 227/500  Batch    4/8   train_loss = 1.089\n",
      "Epoch 228/500  Batch    1/8   train_loss = 0.963\n",
      "Epoch 228/500  Batch    6/8   train_loss = 1.264\n",
      "Epoch 229/500  Batch    3/8   train_loss = 1.036\n",
      "Epoch 230/500  Batch    0/8   train_loss = 0.958\n",
      "Epoch 230/500  Batch    5/8   train_loss = 1.188\n",
      "Epoch 231/500  Batch    2/8   train_loss = 0.983\n",
      "Epoch 232/500  Batch    4/8   train_loss = 1.086\n",
      "Epoch 233/500  Batch    1/8   train_loss = 0.961\n",
      "Epoch 233/500  Batch    6/8   train_loss = 1.260\n",
      "Epoch 234/500  Batch    3/8   train_loss = 1.035\n",
      "Epoch 235/500  Batch    0/8   train_loss = 0.955\n",
      "Epoch 235/500  Batch    5/8   train_loss = 1.185\n",
      "Epoch 236/500  Batch    2/8   train_loss = 0.981\n",
      "Epoch 237/500  Batch    4/8   train_loss = 1.084\n",
      "Epoch 238/500  Batch    1/8   train_loss = 0.959\n",
      "Epoch 238/500  Batch    6/8   train_loss = 1.258\n",
      "Epoch 239/500  Batch    3/8   train_loss = 1.033\n"
     ]
    },
    {
     "name": "stdout",
     "output_type": "stream",
     "text": [
      "Epoch 240/500  Batch    0/8   train_loss = 0.952\n",
      "Epoch 240/500  Batch    5/8   train_loss = 1.183\n",
      "Epoch 241/500  Batch    2/8   train_loss = 0.980\n",
      "Epoch 242/500  Batch    4/8   train_loss = 1.082\n",
      "Epoch 243/500  Batch    1/8   train_loss = 0.957\n",
      "Epoch 243/500  Batch    6/8   train_loss = 1.255\n",
      "Epoch 244/500  Batch    3/8   train_loss = 1.031\n",
      "Epoch 245/500  Batch    0/8   train_loss = 0.949\n",
      "Epoch 245/500  Batch    5/8   train_loss = 1.181\n",
      "Epoch 246/500  Batch    2/8   train_loss = 0.978\n",
      "Epoch 247/500  Batch    4/8   train_loss = 1.081\n",
      "Epoch 248/500  Batch    1/8   train_loss = 0.955\n",
      "Epoch 248/500  Batch    6/8   train_loss = 1.252\n",
      "Epoch 249/500  Batch    3/8   train_loss = 1.030\n",
      "Epoch 250/500  Batch    0/8   train_loss = 0.947\n",
      "Epoch 250/500  Batch    5/8   train_loss = 1.179\n",
      "Epoch 251/500  Batch    2/8   train_loss = 0.976\n",
      "Epoch 252/500  Batch    4/8   train_loss = 1.079\n",
      "Epoch 253/500  Batch    1/8   train_loss = 0.954\n",
      "Epoch 253/500  Batch    6/8   train_loss = 1.250\n",
      "Epoch 254/500  Batch    3/8   train_loss = 1.028\n",
      "Epoch 255/500  Batch    0/8   train_loss = 0.945\n",
      "Epoch 255/500  Batch    5/8   train_loss = 1.178\n",
      "Epoch 256/500  Batch    2/8   train_loss = 0.975\n",
      "Epoch 257/500  Batch    4/8   train_loss = 1.078\n",
      "Epoch 258/500  Batch    1/8   train_loss = 0.953\n",
      "Epoch 258/500  Batch    6/8   train_loss = 1.248\n",
      "Epoch 259/500  Batch    3/8   train_loss = 1.027\n",
      "Epoch 260/500  Batch    0/8   train_loss = 0.943\n",
      "Epoch 260/500  Batch    5/8   train_loss = 1.176\n",
      "Epoch 261/500  Batch    2/8   train_loss = 0.974\n",
      "Epoch 262/500  Batch    4/8   train_loss = 1.077\n",
      "Epoch 263/500  Batch    1/8   train_loss = 0.951\n",
      "Epoch 263/500  Batch    6/8   train_loss = 1.246\n",
      "Epoch 264/500  Batch    3/8   train_loss = 1.026\n",
      "Epoch 265/500  Batch    0/8   train_loss = 0.941\n",
      "Epoch 265/500  Batch    5/8   train_loss = 1.175\n",
      "Epoch 266/500  Batch    2/8   train_loss = 0.973\n",
      "Epoch 267/500  Batch    4/8   train_loss = 1.076\n",
      "Epoch 268/500  Batch    1/8   train_loss = 0.950\n",
      "Epoch 268/500  Batch    6/8   train_loss = 1.244\n",
      "Epoch 269/500  Batch    3/8   train_loss = 1.025\n",
      "Epoch 270/500  Batch    0/8   train_loss = 0.939\n",
      "Epoch 270/500  Batch    5/8   train_loss = 1.173\n",
      "Epoch 271/500  Batch    2/8   train_loss = 0.972\n",
      "Epoch 272/500  Batch    4/8   train_loss = 1.074\n",
      "Epoch 273/500  Batch    1/8   train_loss = 0.949\n",
      "Epoch 273/500  Batch    6/8   train_loss = 1.242\n",
      "Epoch 274/500  Batch    3/8   train_loss = 1.024\n",
      "Epoch 275/500  Batch    0/8   train_loss = 0.938\n",
      "Epoch 275/500  Batch    5/8   train_loss = 1.172\n",
      "Epoch 276/500  Batch    2/8   train_loss = 0.971\n",
      "Epoch 277/500  Batch    4/8   train_loss = 1.073\n",
      "Epoch 278/500  Batch    1/8   train_loss = 0.948\n",
      "Epoch 278/500  Batch    6/8   train_loss = 1.240\n",
      "Epoch 279/500  Batch    3/8   train_loss = 1.023\n",
      "Epoch 280/500  Batch    0/8   train_loss = 0.936\n",
      "Epoch 280/500  Batch    5/8   train_loss = 1.171\n",
      "Epoch 281/500  Batch    2/8   train_loss = 0.970\n",
      "Epoch 282/500  Batch    4/8   train_loss = 1.072\n",
      "Epoch 283/500  Batch    1/8   train_loss = 0.947\n",
      "Epoch 283/500  Batch    6/8   train_loss = 1.239\n",
      "Epoch 284/500  Batch    3/8   train_loss = 1.022\n",
      "Epoch 285/500  Batch    0/8   train_loss = 0.935\n",
      "Epoch 285/500  Batch    5/8   train_loss = 1.170\n",
      "Epoch 286/500  Batch    2/8   train_loss = 0.969\n",
      "Epoch 287/500  Batch    4/8   train_loss = 1.072\n",
      "Epoch 288/500  Batch    1/8   train_loss = 0.946\n",
      "Epoch 288/500  Batch    6/8   train_loss = 1.238\n",
      "Epoch 289/500  Batch    3/8   train_loss = 1.021\n",
      "Epoch 290/500  Batch    0/8   train_loss = 0.934\n",
      "Epoch 290/500  Batch    5/8   train_loss = 1.169\n",
      "Epoch 291/500  Batch    2/8   train_loss = 0.968\n",
      "Epoch 292/500  Batch    4/8   train_loss = 1.071\n",
      "Epoch 293/500  Batch    1/8   train_loss = 0.945\n",
      "Epoch 293/500  Batch    6/8   train_loss = 1.237\n",
      "Epoch 294/500  Batch    3/8   train_loss = 1.020\n",
      "Epoch 295/500  Batch    0/8   train_loss = 0.933\n",
      "Epoch 295/500  Batch    5/8   train_loss = 1.168\n",
      "Epoch 296/500  Batch    2/8   train_loss = 0.967\n",
      "Epoch 297/500  Batch    4/8   train_loss = 1.070\n",
      "Epoch 298/500  Batch    1/8   train_loss = 0.944\n",
      "Epoch 298/500  Batch    6/8   train_loss = 1.235\n",
      "Epoch 299/500  Batch    3/8   train_loss = 1.020\n",
      "Epoch 300/500  Batch    0/8   train_loss = 0.932\n",
      "Epoch 300/500  Batch    5/8   train_loss = 1.167\n",
      "Epoch 301/500  Batch    2/8   train_loss = 0.967\n",
      "Epoch 302/500  Batch    4/8   train_loss = 1.069\n",
      "Epoch 303/500  Batch    1/8   train_loss = 0.943\n",
      "Epoch 303/500  Batch    6/8   train_loss = 1.234\n",
      "Epoch 304/500  Batch    3/8   train_loss = 1.019\n",
      "Epoch 305/500  Batch    0/8   train_loss = 0.931\n",
      "Epoch 305/500  Batch    5/8   train_loss = 1.166\n",
      "Epoch 306/500  Batch    2/8   train_loss = 0.966\n",
      "Epoch 307/500  Batch    4/8   train_loss = 1.069\n",
      "Epoch 308/500  Batch    1/8   train_loss = 0.943\n",
      "Epoch 308/500  Batch    6/8   train_loss = 1.233\n",
      "Epoch 309/500  Batch    3/8   train_loss = 1.019\n",
      "Epoch 310/500  Batch    0/8   train_loss = 0.930\n",
      "Epoch 310/500  Batch    5/8   train_loss = 1.165\n",
      "Epoch 311/500  Batch    2/8   train_loss = 0.965\n",
      "Epoch 312/500  Batch    4/8   train_loss = 1.068\n",
      "Epoch 313/500  Batch    1/8   train_loss = 0.942\n",
      "Epoch 313/500  Batch    6/8   train_loss = 1.232\n",
      "Epoch 314/500  Batch    3/8   train_loss = 1.018\n",
      "Epoch 315/500  Batch    0/8   train_loss = 0.929\n",
      "Epoch 315/500  Batch    5/8   train_loss = 1.164\n",
      "Epoch 316/500  Batch    2/8   train_loss = 0.965\n",
      "Epoch 317/500  Batch    4/8   train_loss = 1.067\n",
      "Epoch 318/500  Batch    1/8   train_loss = 0.941\n",
      "Epoch 318/500  Batch    6/8   train_loss = 1.231\n",
      "Epoch 319/500  Batch    3/8   train_loss = 1.017\n",
      "Epoch 320/500  Batch    0/8   train_loss = 0.928\n",
      "Epoch 320/500  Batch    5/8   train_loss = 1.164\n",
      "Epoch 321/500  Batch    2/8   train_loss = 0.964\n",
      "Epoch 322/500  Batch    4/8   train_loss = 1.067\n",
      "Epoch 323/500  Batch    1/8   train_loss = 0.941\n",
      "Epoch 323/500  Batch    6/8   train_loss = 1.230\n",
      "Epoch 324/500  Batch    3/8   train_loss = 1.017\n",
      "Epoch 325/500  Batch    0/8   train_loss = 0.927\n",
      "Epoch 325/500  Batch    5/8   train_loss = 1.163\n",
      "Epoch 326/500  Batch    2/8   train_loss = 0.964\n",
      "Epoch 327/500  Batch    4/8   train_loss = 1.066\n",
      "Epoch 328/500  Batch    1/8   train_loss = 0.940\n",
      "Epoch 328/500  Batch    6/8   train_loss = 1.229\n",
      "Epoch 329/500  Batch    3/8   train_loss = 1.017\n",
      "Epoch 330/500  Batch    0/8   train_loss = 0.927\n",
      "Epoch 330/500  Batch    5/8   train_loss = 1.163\n",
      "Epoch 331/500  Batch    2/8   train_loss = 0.963\n",
      "Epoch 332/500  Batch    4/8   train_loss = 1.066\n"
     ]
    },
    {
     "ename": "KeyboardInterrupt",
     "evalue": "",
     "output_type": "error",
     "traceback": [
      "\u001b[1;31m---------------------------------------------------------------------------\u001b[0m",
      "\u001b[1;31mKeyboardInterrupt\u001b[0m                         Traceback (most recent call last)",
      "\u001b[1;32m<ipython-input-16-e45549cfda1f>\u001b[0m in \u001b[0;36m<module>\u001b[1;34m()\u001b[0m\n\u001b[0;32m     18\u001b[0m                 \u001b[0minitial_state\u001b[0m\u001b[1;33m:\u001b[0m \u001b[0mstate\u001b[0m\u001b[1;33m,\u001b[0m\u001b[1;33m\u001b[0m\u001b[0m\n\u001b[0;32m     19\u001b[0m                 lr: learning_rate}\n\u001b[1;32m---> 20\u001b[1;33m             \u001b[0mtrain_loss\u001b[0m\u001b[1;33m,\u001b[0m \u001b[0mstate\u001b[0m\u001b[1;33m,\u001b[0m \u001b[0m_\u001b[0m \u001b[1;33m=\u001b[0m \u001b[0msess\u001b[0m\u001b[1;33m.\u001b[0m\u001b[0mrun\u001b[0m\u001b[1;33m(\u001b[0m\u001b[1;33m[\u001b[0m\u001b[0mcost\u001b[0m\u001b[1;33m,\u001b[0m \u001b[0mfinal_state\u001b[0m\u001b[1;33m,\u001b[0m \u001b[0mtrain_op\u001b[0m\u001b[1;33m]\u001b[0m\u001b[1;33m,\u001b[0m \u001b[0mfeed\u001b[0m\u001b[1;33m)\u001b[0m\u001b[1;33m\u001b[0m\u001b[0m\n\u001b[0m\u001b[0;32m     21\u001b[0m \u001b[1;33m\u001b[0m\u001b[0m\n\u001b[0;32m     22\u001b[0m             \u001b[1;31m# Show every <show_every_n_batches> batches\u001b[0m\u001b[1;33m\u001b[0m\u001b[1;33m\u001b[0m\u001b[0m\n",
      "\u001b[1;32mE:\\anaconda\\envs\\py35\\lib\\site-packages\\tensorflow\\python\\client\\session.py\u001b[0m in \u001b[0;36mrun\u001b[1;34m(self, fetches, feed_dict, options, run_metadata)\u001b[0m\n\u001b[0;32m    765\u001b[0m     \u001b[1;32mtry\u001b[0m\u001b[1;33m:\u001b[0m\u001b[1;33m\u001b[0m\u001b[0m\n\u001b[0;32m    766\u001b[0m       result = self._run(None, fetches, feed_dict, options_ptr,\n\u001b[1;32m--> 767\u001b[1;33m                          run_metadata_ptr)\n\u001b[0m\u001b[0;32m    768\u001b[0m       \u001b[1;32mif\u001b[0m \u001b[0mrun_metadata\u001b[0m\u001b[1;33m:\u001b[0m\u001b[1;33m\u001b[0m\u001b[0m\n\u001b[0;32m    769\u001b[0m         \u001b[0mproto_data\u001b[0m \u001b[1;33m=\u001b[0m \u001b[0mtf_session\u001b[0m\u001b[1;33m.\u001b[0m\u001b[0mTF_GetBuffer\u001b[0m\u001b[1;33m(\u001b[0m\u001b[0mrun_metadata_ptr\u001b[0m\u001b[1;33m)\u001b[0m\u001b[1;33m\u001b[0m\u001b[0m\n",
      "\u001b[1;32mE:\\anaconda\\envs\\py35\\lib\\site-packages\\tensorflow\\python\\client\\session.py\u001b[0m in \u001b[0;36m_run\u001b[1;34m(self, handle, fetches, feed_dict, options, run_metadata)\u001b[0m\n\u001b[0;32m    963\u001b[0m     \u001b[1;32mif\u001b[0m \u001b[0mfinal_fetches\u001b[0m \u001b[1;32mor\u001b[0m \u001b[0mfinal_targets\u001b[0m\u001b[1;33m:\u001b[0m\u001b[1;33m\u001b[0m\u001b[0m\n\u001b[0;32m    964\u001b[0m       results = self._do_run(handle, final_targets, final_fetches,\n\u001b[1;32m--> 965\u001b[1;33m                              feed_dict_string, options, run_metadata)\n\u001b[0m\u001b[0;32m    966\u001b[0m     \u001b[1;32melse\u001b[0m\u001b[1;33m:\u001b[0m\u001b[1;33m\u001b[0m\u001b[0m\n\u001b[0;32m    967\u001b[0m       \u001b[0mresults\u001b[0m \u001b[1;33m=\u001b[0m \u001b[1;33m[\u001b[0m\u001b[1;33m]\u001b[0m\u001b[1;33m\u001b[0m\u001b[0m\n",
      "\u001b[1;32mE:\\anaconda\\envs\\py35\\lib\\site-packages\\tensorflow\\python\\client\\session.py\u001b[0m in \u001b[0;36m_do_run\u001b[1;34m(self, handle, target_list, fetch_list, feed_dict, options, run_metadata)\u001b[0m\n\u001b[0;32m   1013\u001b[0m     \u001b[1;32mif\u001b[0m \u001b[0mhandle\u001b[0m \u001b[1;32mis\u001b[0m \u001b[1;32mNone\u001b[0m\u001b[1;33m:\u001b[0m\u001b[1;33m\u001b[0m\u001b[0m\n\u001b[0;32m   1014\u001b[0m       return self._do_call(_run_fn, self._session, feed_dict, fetch_list,\n\u001b[1;32m-> 1015\u001b[1;33m                            target_list, options, run_metadata)\n\u001b[0m\u001b[0;32m   1016\u001b[0m     \u001b[1;32melse\u001b[0m\u001b[1;33m:\u001b[0m\u001b[1;33m\u001b[0m\u001b[0m\n\u001b[0;32m   1017\u001b[0m       return self._do_call(_prun_fn, self._session, handle, feed_dict,\n",
      "\u001b[1;32mE:\\anaconda\\envs\\py35\\lib\\site-packages\\tensorflow\\python\\client\\session.py\u001b[0m in \u001b[0;36m_do_call\u001b[1;34m(self, fn, *args)\u001b[0m\n\u001b[0;32m   1020\u001b[0m   \u001b[1;32mdef\u001b[0m \u001b[0m_do_call\u001b[0m\u001b[1;33m(\u001b[0m\u001b[0mself\u001b[0m\u001b[1;33m,\u001b[0m \u001b[0mfn\u001b[0m\u001b[1;33m,\u001b[0m \u001b[1;33m*\u001b[0m\u001b[0margs\u001b[0m\u001b[1;33m)\u001b[0m\u001b[1;33m:\u001b[0m\u001b[1;33m\u001b[0m\u001b[0m\n\u001b[0;32m   1021\u001b[0m     \u001b[1;32mtry\u001b[0m\u001b[1;33m:\u001b[0m\u001b[1;33m\u001b[0m\u001b[0m\n\u001b[1;32m-> 1022\u001b[1;33m       \u001b[1;32mreturn\u001b[0m \u001b[0mfn\u001b[0m\u001b[1;33m(\u001b[0m\u001b[1;33m*\u001b[0m\u001b[0margs\u001b[0m\u001b[1;33m)\u001b[0m\u001b[1;33m\u001b[0m\u001b[0m\n\u001b[0m\u001b[0;32m   1023\u001b[0m     \u001b[1;32mexcept\u001b[0m \u001b[0merrors\u001b[0m\u001b[1;33m.\u001b[0m\u001b[0mOpError\u001b[0m \u001b[1;32mas\u001b[0m \u001b[0me\u001b[0m\u001b[1;33m:\u001b[0m\u001b[1;33m\u001b[0m\u001b[0m\n\u001b[0;32m   1024\u001b[0m       \u001b[0mmessage\u001b[0m \u001b[1;33m=\u001b[0m \u001b[0mcompat\u001b[0m\u001b[1;33m.\u001b[0m\u001b[0mas_text\u001b[0m\u001b[1;33m(\u001b[0m\u001b[0me\u001b[0m\u001b[1;33m.\u001b[0m\u001b[0mmessage\u001b[0m\u001b[1;33m)\u001b[0m\u001b[1;33m\u001b[0m\u001b[0m\n",
      "\u001b[1;32mE:\\anaconda\\envs\\py35\\lib\\site-packages\\tensorflow\\python\\client\\session.py\u001b[0m in \u001b[0;36m_run_fn\u001b[1;34m(session, feed_dict, fetch_list, target_list, options, run_metadata)\u001b[0m\n\u001b[0;32m   1002\u001b[0m         return tf_session.TF_Run(session, options,\n\u001b[0;32m   1003\u001b[0m                                  \u001b[0mfeed_dict\u001b[0m\u001b[1;33m,\u001b[0m \u001b[0mfetch_list\u001b[0m\u001b[1;33m,\u001b[0m \u001b[0mtarget_list\u001b[0m\u001b[1;33m,\u001b[0m\u001b[1;33m\u001b[0m\u001b[0m\n\u001b[1;32m-> 1004\u001b[1;33m                                  status, run_metadata)\n\u001b[0m\u001b[0;32m   1005\u001b[0m \u001b[1;33m\u001b[0m\u001b[0m\n\u001b[0;32m   1006\u001b[0m     \u001b[1;32mdef\u001b[0m \u001b[0m_prun_fn\u001b[0m\u001b[1;33m(\u001b[0m\u001b[0msession\u001b[0m\u001b[1;33m,\u001b[0m \u001b[0mhandle\u001b[0m\u001b[1;33m,\u001b[0m \u001b[0mfeed_dict\u001b[0m\u001b[1;33m,\u001b[0m \u001b[0mfetch_list\u001b[0m\u001b[1;33m)\u001b[0m\u001b[1;33m:\u001b[0m\u001b[1;33m\u001b[0m\u001b[0m\n",
      "\u001b[1;31mKeyboardInterrupt\u001b[0m: "
     ]
    }
   ],
   "source": [
    "\"\"\"\n",
    "DON'T MODIFY ANYTHING IN THIS CELL\n",
    "\"\"\"\n",
    "# batches = get_batches(int_text, batch_size, seq_length)\n",
    "\n",
    "with tf.Session(graph=train_graph) as sess:\n",
    "    sess.run(tf.global_variables_initializer())\n",
    "    num_batches = len(int_text)//(batch_size*seq_length)\n",
    "\n",
    "    for epoch_i in range(num_epochs):\n",
    "        generator = get_batches(int_text, batch_size, seq_length)\n",
    "        state = sess.run(initial_state, {input_text: next(generator)[0]})\n",
    "\n",
    "        for ii, (x,y) in enumerate(generator):\n",
    "            feed = {\n",
    "                input_text: x,\n",
    "                targets: y,\n",
    "                initial_state: state,\n",
    "                lr: learning_rate}\n",
    "            train_loss, state, _ = sess.run([cost, final_state, train_op], feed)\n",
    "\n",
    "            # Show every <show_every_n_batches> batches\n",
    "            if (epoch_i * num_batches + ii) % show_every_n_batches == 0:\n",
    "                print('Epoch {:>3}/{}  Batch {:>4}/{}   train_loss = {:.3f}'.format(                   \n",
    "                    epoch_i,\n",
    "                    num_epochs,\n",
    "                    ii,\n",
    "                    num_batches,\n",
    "                    train_loss))\n",
    "    # Save Model\n",
    "    saver = tf.train.Saver()\n",
    "    saver.save(sess, save_dir)\n"
   ]
  },
  {
   "cell_type": "markdown",
   "metadata": {},
   "source": [
    "## Save Parameters\n",
    "Save `seq_length` and `save_dir` for generating a new TV script."
   ]
  },
  {
   "cell_type": "code",
   "execution_count": 47,
   "metadata": {
    "collapsed": true
   },
   "outputs": [],
   "source": [
    "\"\"\"\n",
    "DON'T MODIFY ANYTHING IN THIS CELL\n",
    "\"\"\"\n",
    "# Save parameters for checkpoint\n",
    "helper.save_params((seq_length, save_dir))"
   ]
  },
  {
   "cell_type": "markdown",
   "metadata": {},
   "source": [
    "# Checkpoint"
   ]
  },
  {
   "cell_type": "code",
   "execution_count": 56,
   "metadata": {
    "collapsed": true
   },
   "outputs": [],
   "source": [
    "\"\"\"\n",
    "DON'T MODIFY ANYTHING IN THIS CELL\n",
    "\"\"\"\n",
    "import tensorflow as tf\n",
    "import numpy as np\n",
    "import helper\n",
    "import problem_unittests as tests\n",
    "\n",
    "_, vocab_to_int, int_to_vocab, token_dict = helper.load_preprocess()\n",
    "seq_length, load_dir = helper.load_params()"
   ]
  },
  {
   "cell_type": "markdown",
   "metadata": {},
   "source": [
    "## Implement Generate Functions\n",
    "### Get Tensors\n",
    "Get tensors from `loaded_graph` using the function [`get_tensor_by_name()`](https://www.tensorflow.org/api_docs/python/tf/Graph#get_tensor_by_name).  Get the tensors using the following names:\n",
    "- \"input:0\"\n",
    "- \"initial_state:0\"\n",
    "- \"final_state:0\"\n",
    "- \"probs:0\"\n",
    "\n",
    "Return the tensors in the following tuple `(InputTensor, InitialStateTensor, FinalStateTensor, ProbsTensor)` "
   ]
  },
  {
   "cell_type": "code",
   "execution_count": 44,
   "metadata": {},
   "outputs": [
    {
     "name": "stdout",
     "output_type": "stream",
     "text": [
      "Tests Passed\n"
     ]
    }
   ],
   "source": [
    "def get_tensors(loaded_graph):\n",
    "    \"\"\"\n",
    "    Get input, initial state, final state, and probabilities tensor from <loaded_graph>\n",
    "    :param loaded_graph: TensorFlow graph loaded from file\n",
    "    :return: Tuple (InputTensor, InitialStateTensor, FinalStateTensor, ProbsTensor)\n",
    "    \"\"\"\n",
    "    # TODO: Implement Function\n",
    "    InputTensor = tf.Graph.get_tensor_by_name(loaded_graph,'input:0')\n",
    "    InitialStateTensor = tf.Graph.get_tensor_by_name(loaded_graph,'initial_state:0')\n",
    "    FinalStateTensor = tf.Graph.get_tensor_by_name(loaded_graph,'final_state:0')\n",
    "    ProbsTensor = tf.Graph.get_tensor_by_name(loaded_graph,'probs:0')\n",
    "    return (InputTensor, InitialStateTensor, FinalStateTensor, ProbsTensor)\n",
    "\n",
    "\n",
    "\"\"\"\n",
    "DON'T MODIFY ANYTHING IN THIS CELL THAT IS BELOW THIS LINE\n",
    "\"\"\"\n",
    "tests.test_get_tensors(get_tensors)"
   ]
  },
  {
   "cell_type": "markdown",
   "metadata": {},
   "source": [
    "### Choose Word\n",
    "Implement the `pick_word()` function to select the next word using `probabilities`."
   ]
  },
  {
   "cell_type": "code",
   "execution_count": 45,
   "metadata": {},
   "outputs": [
    {
     "name": "stdout",
     "output_type": "stream",
     "text": [
      "Tests Passed\n"
     ]
    }
   ],
   "source": [
    "def pick_word(probabilities, int_to_vocab):\n",
    "    \"\"\"\n",
    "    Pick the next word in the generated text\n",
    "    :param probabilities: Probabilites of the next word\n",
    "    :param int_to_vocab: Dictionary of word ids as the keys and words as the values\n",
    "    :return: String of the predicted word\n",
    "    \"\"\"\n",
    "    # TODO: Implement Function\n",
    "    predict_word = int_to_vocab[np.argmax(probabilities)]\n",
    "    return predict_word\n",
    "\n",
    "\n",
    "\"\"\"\n",
    "DON'T MODIFY ANYTHING IN THIS CELL THAT IS BELOW THIS LINE\n",
    "\"\"\"\n",
    "tests.test_pick_word(pick_word)"
   ]
  },
  {
   "cell_type": "markdown",
   "metadata": {},
   "source": [
    "## Generate TV Script\n",
    "This will generate the TV script for you.  Set `gen_length` to the length of TV script you want to generate."
   ]
  },
  {
   "cell_type": "code",
   "execution_count": 60,
   "metadata": {},
   "outputs": [
    {
     "name": "stdout",
     "output_type": "stream",
     "text": [
      "barney_gumble:(drunk) look, the thing is my god. it's you, and god bless america.\n",
      "\n",
      "homer_simpson:(disappointed) it's over.\n",
      "carl_carlson: oh, i'd love to discuss your problems.\n",
      "lenny_leonard: hey, homer. i don't need to learn / 'cause we're going to a secret with the.\n",
      "carl_carlson: that's the this. / canyonero(then) ahh. what the monster! / yeah, we're going to the top.(frink noise)\n",
      "lisa_simpson:(sighs) why did i ever think i needed a clone?\n",
      "moe_szyslak: what's the matter, homer? my militia has a secret christian underpants one leg at a time.\n",
      "moe_szyslak:(\")\n",
      "homer_simpson:(\" shoo fly shoo\") calf's in the field so you and god bless america.\n",
      "\n",
      "\n",
      "lenny_leonard: it's not an apology for, the treasure on the eyes.\n",
      "moe_szyslak:(still) i don't want to the pool table.\n",
      "\n",
      "\n",
      "\n",
      "\n",
      "carl_carlson: i'd say(throws another punch) i know! that's the beauty people. i'm need a little more like! i had the new no.\n",
      "lenny_leonard: no...\n",
      "carl_carlson: ah, no.\n",
      "lenny_leonard: yeah, nice try there, twelve-step.\n",
      "\n",
      "\n",
      "homer_simpson:(sadly) well, well, if it wasn't\" stayin' alive?\n",
      "homer_simpson:(sadly) the poor man, big day....\n",
      "homer_simpson:(runs in) hey, moe, got any milk?\n",
      "moe_szyslak: it's either milk... or paint.\n",
      "homer_simpson:(disappointed) it's paint. or is it?\n",
      "homer_simpson: yeah, while you're at it, have you, moe. get it?\n",
      "chief_wiggum: sorry, i'm afraid the end it, the money back the new guy more.\n",
      "moe_szyslak: ah, life is a cow college!\n",
      "moe_szyslak:(to moe, then) i to need to offer besides money.\n",
      "moe_szyslak:(serious) no, moe.\n",
      "moe_szyslak:(to barney) are you man, but that i don't know.\n",
      "moe_szyslak:(to himself) this is the man, there's nothin' we all pick the law and betrayed a friend.\n",
      "homer_simpson:(to himself) this is a in the money back. 'cause you...\n",
      "moe_szyslak: oh, it ain't no mystery-- whole doesn't that the world, and the new world.\n",
      "carl_carlson: that's the beauty moe_szyslak:(to moe, then) hey, i'm chuck. / they said...(moans)\n",
      "moe_szyslak: what's the homer, if you're the back, moe.\n",
      "homer_simpson: yeah, you sure look\n"
     ]
    }
   ],
   "source": [
    "gen_length = 500\n",
    "# homer_simpson, moe_szyslak, or Barney_Gumble\n",
    "prime_word = 'barney_gumble'\n",
    "\n",
    "\"\"\"\n",
    "DON'T MODIFY ANYTHING IN THIS CELL THAT IS BELOW THIS LINE\n",
    "\"\"\"\n",
    "loaded_graph = tf.Graph()\n",
    "with tf.Session(graph=loaded_graph) as sess:\n",
    "    # Load saved model\n",
    "    loader = tf.train.import_meta_graph(load_dir + '.meta')\n",
    "    loader.restore(sess, load_dir)\n",
    "\n",
    "    # Get Tensors from loaded model\n",
    "    input_text, initial_state, final_state, probs = get_tensors(loaded_graph)\n",
    "\n",
    "    # Sentences generation setup\n",
    "    gen_sentences = [prime_word + ':']\n",
    "    prev_state = sess.run(initial_state, {input_text: np.array([[1]])})\n",
    "\n",
    "    # Generate sentences\n",
    "    for n in range(gen_length):\n",
    "        # Dynamic Input\n",
    "        dyn_input = [[vocab_to_int[word] for word in gen_sentences[-seq_length:]]]\n",
    "        dyn_seq_length = len(dyn_input[0])\n",
    "\n",
    "        # Get Prediction\n",
    "        probabilities, prev_state = sess.run(\n",
    "            [probs, final_state],\n",
    "            {input_text: dyn_input, initial_state: prev_state})\n",
    "        \n",
    "        pred_word = pick_word(probabilities[dyn_seq_length-1], int_to_vocab)\n",
    "\n",
    "        gen_sentences.append(pred_word)\n",
    "    \n",
    "    # Remove tokens\n",
    "    tv_script = ' '.join(gen_sentences)\n",
    "    for key, token in token_dict.items():\n",
    "        ending = ' ' if key in ['\\n', '(', '\"'] else ''\n",
    "        tv_script = tv_script.replace(' ' + token.lower(), key)\n",
    "    tv_script = tv_script.replace('\\n ', '\\n')\n",
    "    tv_script = tv_script.replace('( ', '(')\n",
    "        \n",
    "    print(tv_script)"
   ]
  },
  {
   "cell_type": "markdown",
   "metadata": {},
   "source": [
    "# The TV Script is Nonsensical\n",
    "It's ok if the TV script doesn't make any sense.  We trained on less than a megabyte of text.  In order to get good results, you'll have to use a smaller vocabulary or get more data.  Luckly there's more data!  As we mentioned in the begging of this project, this is a subset of [another dataset](https://www.kaggle.com/wcukierski/the-simpsons-by-the-data).  We didn't have you train on all the data, because that would take too long.  However, you are free to train your neural network on all the data.  After you complete the project, of course.\n",
    "# Submitting This Project\n",
    "When submitting this project, make sure to run all the cells before saving the notebook. Save the notebook file as \"dlnd_tv_script_generation.ipynb\" and save it as a HTML file under \"File\" -> \"Download as\". Include the \"helper.py\" and \"problem_unittests.py\" files in your submission."
   ]
  }
 ],
 "metadata": {
  "kernelspec": {
   "display_name": "Python 3",
   "language": "python",
   "name": "python3"
  },
  "language_info": {
   "codemirror_mode": {
    "name": "ipython",
    "version": 3
   },
   "file_extension": ".py",
   "mimetype": "text/x-python",
   "name": "python",
   "nbconvert_exporter": "python",
   "pygments_lexer": "ipython3",
   "version": "3.5.3"
  },
  "widgets": {
   "state": {},
   "version": "1.1.2"
  }
 },
 "nbformat": 4,
 "nbformat_minor": 1
}
